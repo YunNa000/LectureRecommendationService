{
 "cells": [
  {
   "cell_type": "code",
   "execution_count": 15,
   "metadata": {},
   "outputs": [],
   "source": [
    "import sqlite3\n",
    "\n",
    "conn = sqlite3.connect('kwu-lecture-database-v4.db')\n",
    "cursor = conn.cursor()\n",
    "\n",
    "cursor.execute('''\n",
    "DROP TABLE IF EXISTS userListedLecture\n",
    "''')\n",
    "\n",
    "conn.commit()\n",
    "conn.close()\n",
    "\n"
   ]
  },
  {
   "cell_type": "code",
   "execution_count": 2,
   "metadata": {},
   "outputs": [],
   "source": [
    "import sqlite3\n",
    "\n",
    "conn = sqlite3.connect('kwu-lecture-database-v5.db')\n",
    "cursor = conn.cursor()\n",
    "\n",
    "cursor.execute('''\n",
    "CREATE TABLE IF NOT EXISTS userListedLecture (\n",
    "    id INTEGER PRIMARY KEY,\n",
    "    user_id INTEGER,\n",
    "    lecNumber INTEGER,\n",
    "    FOREIGN KEY (user_id) REFERENCES user(user_id),\n",
    "    FOREIGN KEY (lecNumber) REFERENCES LectureTable(lecNumber)\n",
    ")\n",
    "''')\n",
    "\n",
    "conn.commit()\n",
    "conn.close()"
   ]
  },
  {
   "cell_type": "code",
   "execution_count": 1,
   "metadata": {},
   "outputs": [],
   "source": [
    "import sqlite3\n",
    "\n",
    "conn = sqlite3.connect('kwu-lecture-database-v5.db')\n",
    "cursor = conn.cursor()\n",
    "\n",
    "cursor.execute(\"\"\"\n",
    "    UPDATE user\n",
    "    SET userHakbun = 2021204066,\n",
    "        userIsForeign = '0',\n",
    "        userBunban = 'c8',\n",
    "        userYear = '4',\n",
    "        userMajor = '컴퓨터공학과',\n",
    "        userIsMultipleMajor = false,\n",
    "        userWhatMultipleMajor = \"0\",\n",
    "        userTakenLecture = \"0\"\n",
    "    WHERE user_id = '104216379361715837223';\n",
    "    \"\"\")\n",
    "\n",
    "conn.commit()\n",
    "conn.close()\n"
   ]
  },
  {
   "cell_type": "code",
   "execution_count": null,
   "metadata": {},
   "outputs": [],
   "source": [
    "import sqlite3\n",
    "\n",
    "conn = sqlite3.connect('kwu-lecture-database-v5.db')\n",
    "cursor = conn.cursor()\n",
    "\n",
    "cursor.execute('''\n",
    "CREATE TABLE IF NOT EXISTS userListedLecture (\n",
    "    id INTEGER PRIMARY KEY,\n",
    "    user_id INTEGER,\n",
    "    lecNumber INTEGER,\n",
    "    FOREIGN KEY (user_id) REFERENCES user(user_id),\n",
    "    FOREIGN KEY (lecNumber) REFERENCES LectureTable(lecNumber)\n",
    ")\n",
    "''')\n",
    "\n",
    "conn.commit()\n",
    "conn.close()"
   ]
  },
  {
   "cell_type": "code",
   "execution_count": null,
   "metadata": {},
   "outputs": [],
   "source": [
    "import sqlite3\n",
    "\n",
    "conn = sqlite3.connect('kwu-lecture-database-v5.db')\n",
    "cursor = conn.cursor()\n",
    "\n",
    "cursor.execute('''\n",
    "CREATE TABLE IF NOT EXISTS friend (\n",
    "    id INTEGER PRIMARY KEY AUTOINCREMENT,\n",
    "    user_id1 INTEGER,\n",
    "    user_id2 INTEGER,\n",
    "    FOREIGN KEY (user_id1) REFERENCES user(user_id),\n",
    "    FOREIGN KEY (user_id2) REFERENCES user(user_id)\n",
    "''')\n",
    "\n",
    "conn.commit()\n",
    "conn.close()"
   ]
  }
 ],
 "metadata": {
  "kernelspec": {
   "display_name": ".env",
   "language": "python",
   "name": "python3"
  },
  "language_info": {
   "codemirror_mode": {
    "name": "ipython",
    "version": 3
   },
   "file_extension": ".py",
   "mimetype": "text/x-python",
   "name": "python",
   "nbconvert_exporter": "python",
   "pygments_lexer": "ipython3",
   "version": "3.11.5"
  }
 },
 "nbformat": 4,
 "nbformat_minor": 2
}
