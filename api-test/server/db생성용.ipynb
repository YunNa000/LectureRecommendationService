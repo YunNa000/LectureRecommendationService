{
 "cells": [
  {
   "cell_type": "code",
   "execution_count": 1,
   "metadata": {},
   "outputs": [
    {
     "name": "stdout",
     "output_type": "stream",
     "text": [
      "Database setup completed successfully.\n"
     ]
    }
   ],
   "source": [
    "import sqlite3\n",
    "\n",
    "\n",
    "# 데이터베이스 연결\n",
    "conn = sqlite3.connect('./kwu-lecture-database-v6.db')\n",
    "cursor = conn.cursor()\n",
    "\n",
    "\n",
    "# friend 테이블 생성\n",
    "cursor.execute('''\n",
    "CREATE TABLE IF NOT EXISTS friend (\n",
    "    id INTEGER PRIMARY KEY AUTOINCREMENT,\n",
    "    user_id1 TEXT NOT NULL,\n",
    "    user_id2 TEXT NOT NULL,\n",
    "    mutality BOOLEAN NOT NULL DEFAULT FALSE,\n",
    "    FOREIGN KEY (user_id1) REFERENCES user(user_id),\n",
    "    FOREIGN KEY (user_id2) REFERENCES user(user_id)\n",
    ")\n",
    "''')\n",
    "\n",
    "# 인덱스 생성\n",
    "cursor.execute('CREATE INDEX IF NOT EXISTS idx_friend_user_id1 ON friend(user_id1)')\n",
    "cursor.execute('CREATE INDEX IF NOT EXISTS idx_friend_user_id2 ON friend(user_id2)')\n",
    "\n",
    "\n",
    "\n",
    "# 변경사항 저장\n",
    "conn.commit()\n",
    "\n",
    "# 연결 종료\n",
    "conn.close()\n",
    "\n",
    "print(\"Database setup completed successfully.\")\n",
    "\n"
   ]
  },
  {
   "cell_type": "code",
   "execution_count": null,
   "metadata": {},
   "outputs": [],
   "source": []
  }
 ],
 "metadata": {
  "kernelspec": {
   "display_name": "base",
   "language": "python",
   "name": "python3"
  },
  "language_info": {
   "codemirror_mode": {
    "name": "ipython",
    "version": 3
   },
   "file_extension": ".py",
   "mimetype": "text/x-python",
   "name": "python",
   "nbconvert_exporter": "python",
   "pygments_lexer": "ipython3",
   "version": "3.11.7"
  }
 },
 "nbformat": 4,
 "nbformat_minor": 2
}
