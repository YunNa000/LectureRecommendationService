{
 "cells": [
  {
   "cell_type": "code",
   "execution_count": 1,
   "metadata": {},
   "outputs": [
    {
     "name": "stdout",
     "output_type": "stream",
     "text": [
      "done\n"
     ]
    }
   ],
   "source": [
    "import sqlite3\n",
    "\n",
    "\n",
    "old_db_conn = sqlite3.connect('./backup/old.db')\n",
    "new_db_conn = sqlite3.connect('./kwu-lecture-db-v2.db')\n",
    "\n",
    "\n",
    "old_cursor = old_db_conn.cursor()\n",
    "new_cursor = new_db_conn.cursor()\n",
    "\n",
    "\n",
    "old_cursor.execute('''\n",
    "SELECT lecCanTakeBunban, lecMajorRecogBunban, lecTakeOnly1Year, lecTakeOnly2Year, lecTakeOnly3Year, \n",
    "       lecTakeOnly4Year, lecTakeOnly5Year, lecForeignPeopleCanTake, lecCanTakeMultipleMajor, \n",
    "       lecTakeOnlyAthletics, lecTakeOnlyChambit, lecRequirementClass, lecLinkedMajorDifficulty, \n",
    "       year, semester, lecNumber\n",
    "FROM LectureTable\n",
    "''')\n",
    "\n",
    "\n",
    "rows = old_cursor.fetchall()\n",
    "\n",
    "\n",
    "for row in rows:\n",
    "    canTakeBunBan = row[0]\n",
    "    majorRecogBunBan = row[1]\n",
    "    canTakeOnly1year = row[2]\n",
    "    canTakeOnly2year = row[3]\n",
    "    canTakeOnly3year = row[4]\n",
    "    canTakeOnly4year = row[5]\n",
    "    canTakeOnly5year = row[6]\n",
    "    canTakeForeignPeople = row[7]\n",
    "    canTakeMultipleMajor = row[8]\n",
    "    canTakeOnlyAthlete = row[9]\n",
    "    canTakeOnlyChambit = row[10]\n",
    "    requirementClass = row[11]\n",
    "    lecLinkedMajorDifficulty = row[12]\n",
    "    year = row[13]\n",
    "    semester = row[14]\n",
    "    lecNumber = row[15]\n",
    "\n",
    "    new_cursor.execute('''\n",
    "    SELECT lectureID FROM LectureList\n",
    "    WHERE year = ? AND semester = ? AND lecNumber = ?\n",
    "    ''', (year, semester, lecNumber))\n",
    "\n",
    "    lecture_id_row = new_cursor.fetchone()\n",
    "\n",
    "    if lecture_id_row:\n",
    "        lectureID = lecture_id_row[0]\n",
    "\n",
    "        new_cursor.execute('''\n",
    "        INSERT INTO LectureConditions (lectureID, canTakeBunBan, majorRecogBunBan, canTakeOnly1year, \n",
    "                                      canTakeOnly2year, canTakeOnly3year, canTakeOnly4year, \n",
    "                                      canTakeOnly5year, canTakeForeignPeople, canTakeMultipleMajor, \n",
    "                                      canTakeOnlyAthlete, canTakeOnlyChambit, requirementClass, \n",
    "                                      lecLinkedMajorDifficulty)\n",
    "        VALUES (?, ?, ?, ?, ?, ?, ?, ?, ?, ?, ?, ?, ?, ?)\n",
    "        ''', (lectureID, canTakeBunBan, majorRecogBunBan, canTakeOnly1year, canTakeOnly2year,\n",
    "              canTakeOnly3year, canTakeOnly4year, canTakeOnly5year, canTakeForeignPeople,\n",
    "              canTakeMultipleMajor, canTakeOnlyAthlete, canTakeOnlyChambit, requirementClass,\n",
    "              lecLinkedMajorDifficulty))\n",
    "\n",
    "\n",
    "new_db_conn.commit()\n",
    "\n",
    "\n",
    "old_db_conn.close()\n",
    "new_db_conn.close()\n",
    "\n",
    "print(\"done\")"
   ]
  }
 ],
 "metadata": {
  "kernelspec": {
   "display_name": ".env",
   "language": "python",
   "name": "python3"
  },
  "language_info": {
   "codemirror_mode": {
    "name": "ipython",
    "version": 3
   },
   "file_extension": ".py",
   "mimetype": "text/x-python",
   "name": "python",
   "nbconvert_exporter": "python",
   "pygments_lexer": "ipython3",
   "version": "3.11.9"
  }
 },
 "nbformat": 4,
 "nbformat_minor": 2
}
