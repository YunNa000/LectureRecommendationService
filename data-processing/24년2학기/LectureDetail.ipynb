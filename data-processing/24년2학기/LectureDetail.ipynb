{
 "cells": [
  {
   "cell_type": "code",
   "execution_count": 7,
   "metadata": {},
   "outputs": [
    {
     "name": "stdout",
     "output_type": "stream",
     "text": [
      "done\n"
     ]
    }
   ],
   "source": [
    "import sqlite3\n",
    "\n",
    "old_db_conn = sqlite3.connect('./backup/old.db')\n",
    "new_db_conn = sqlite3.connect('./kwu-lecture-recommendation-v2-updating.db')\n",
    "\n",
    "old_cursor = old_db_conn.cursor()\n",
    "new_cursor = new_db_conn.cursor()\n",
    "\n",
    "\n",
    "old_cursor.execute('''\n",
    "SELECT year, semester, lecNumber, lecIsPNP, lecIsEngeneering, lecRequirementClass, \n",
    "       lecIsTBL, lecIsPBL, lecIsSeminar, lecIsSmall, lecIsConvergence, \n",
    "       lecIsTeamTeach, lecIsFocus, lecIsArt, lecOverview, lecEvaluateRatio\n",
    "FROM LectureTable\n",
    "''')\n",
    "\n",
    "rows = old_cursor.fetchall()\n",
    "\n",
    "for row in rows:\n",
    "    year = row[0]\n",
    "    semester = row[1]\n",
    "    lecNumber = row[2]\n",
    "    lecIsPNP = row[3]\n",
    "    lecIsEngineering = row[4]\n",
    "    lecRequirementClass = row[5]\n",
    "    lecIsTBL = row[6]\n",
    "    lecIsPBL = row[7]\n",
    "    lecIsSeminar = row[8]\n",
    "    lecIsSmall = row[9]\n",
    "    lecIsConvergence = row[10]\n",
    "    lecIsTeamTeach = row[11]\n",
    "    lecIsFocus = row[12]\n",
    "    lecIsArt = row[13]\n",
    "    lecOverview = row[14]\n",
    "    lecEvaluateRatio = row[15]\n",
    "\n",
    "    new_cursor.execute('''\n",
    "    SELECT lectureID FROM LectureList\n",
    "    WHERE year = ? AND semester = ? AND lecNumber = ?\n",
    "    ''', (year, semester, lecNumber))\n",
    "\n",
    "    lecture_id_row = new_cursor.fetchone()\n",
    "\n",
    "    if lecture_id_row:\n",
    "        lectureID = lecture_id_row[0]\n",
    "\n",
    "        new_cursor.execute('''\n",
    "        INSERT INTO LectureDetailData (lectureID, isPNP, isEngineering, isTBL, isPBL, \n",
    "                                       isSeminar, isSmall, isConvergence, \n",
    "                                       isTeamTeaching, isFocus, isArt, \n",
    "                                       Overview, evaluationRatio)\n",
    "        VALUES (?, ?, ?, ?, ?, ?, ?, ?, ?, ?, ?, ?, ?)\n",
    "        ''', (lectureID, lecIsPNP, lecIsEngineering, lecIsTBL, lecIsPBL,\n",
    "              lecIsSeminar, lecIsSmall, lecIsConvergence,\n",
    "              lecIsTeamTeach, lecIsFocus, lecIsArt,\n",
    "              lecOverview, lecEvaluateRatio))\n",
    "\n",
    "\n",
    "new_db_conn.commit()\n",
    "\n",
    "\n",
    "old_db_conn.close()\n",
    "new_db_conn.close()\n",
    "\n",
    "print(\"done\")"
   ]
  }
 ],
 "metadata": {
  "kernelspec": {
   "display_name": ".env",
   "language": "python",
   "name": "python3"
  },
  "language_info": {
   "codemirror_mode": {
    "name": "ipython",
    "version": 3
   },
   "file_extension": ".py",
   "mimetype": "text/x-python",
   "name": "python",
   "nbconvert_exporter": "python",
   "pygments_lexer": "ipython3",
   "version": "3.11.9"
  }
 },
 "nbformat": 4,
 "nbformat_minor": 2
}
