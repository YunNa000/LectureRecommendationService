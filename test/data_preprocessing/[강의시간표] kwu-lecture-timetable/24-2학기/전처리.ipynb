{
 "cells": [
  {
   "cell_type": "markdown",
   "metadata": {},
   "source": [
    "1. (전체)pdf 파일을 csv로 만들기"
   ]
  },
  {
   "cell_type": "code",
   "execution_count": null,
   "metadata": {},
   "outputs": [],
   "source": [
    "import pdfplumber\n",
    "import pandas as pd\n",
    "import re\n",
    "\n",
    "# PDF 파일 경로\n",
    "pdf_file_path = r\"./libs/pdf/3-1. 강의시간표 전체(2024-2).pdf\"\n",
    "\n",
    "# 저장할 CSV 파일 경로 .\\libs\\csv\n",
    "csv_file_path = \".\\libs\\csv/kwu-24-2-timetable.csv\"\n",
    "\n",
    "# 데이터를 저장할 리스트 초기화\n",
    "data = []\n",
    "\n",
    "# PDF 파일 열기\n",
    "with pdfplumber.open(pdf_file_path) as pdf:\n",
    "    # 각 페이지 순회\n",
    "    for page in pdf.pages:\n",
    "        # 페이지에서 표 추출\n",
    "        table = page.extract_table()\n",
    "        if table:\n",
    "            # 추출된 표 데이터를 리스트에 추가\n",
    "            data.extend(table)\n",
    "\n",
    "# 데이터가 없는 빈 행을 필터링\n",
    "filtered_data = [row for row in data if any(cell.strip() for cell in row)]\n",
    "\n",
    "# 추출된 데이터를 DataFrame으로 변환\n",
    "df = pd.DataFrame(filtered_data[1:], columns=filtered_data[0])  # 첫 번째 행을 헤더로 사용\n",
    "\n",
    "# DataFrame을 CSV 파일로 저장\n",
    "df.to_csv(csv_file_path, index=False)\n",
    "\n",
    "print(\"CSV 파일이 저장되었습니다.\")\n",
    "\n",
    "\n",
    "# 저장할 CSV 파일 경로 .\\libs\\csv\n",
    "# csv_file_path = \".\\libs\\csv/kwu-24-2-timetable.csv\""
   ]
  },
  {
   "cell_type": "markdown",
   "metadata": {},
   "source": [
    "2. 해당 csv 파일에서 학정번호형식을 제외한 '비고', '헤더피쳐'가 중복되고 필요없는 정보임으로 삭제 "
   ]
  },
  {
   "cell_type": "code",
   "execution_count": null,
   "metadata": {},
   "outputs": [],
   "source": [
    "import re\n",
    "\n",
    "# 학정번호 형식을 정규 표현식으로 정의 (예: I040-2-6387-02)\n",
    "pattern = r'^[A-Za-z0-9]+-\\d-\\d{4}-\\d{2}$'\n",
    "\n",
    "# 학정번호 형식과 일치하는 행만 남기기\n",
    "df = df[df['학정번호'].apply(lambda x: bool(re.match(pattern, str(x))))]"
   ]
  },
  {
   "cell_type": "code",
   "execution_count": null,
   "metadata": {},
   "outputs": [],
   "source": [
    "df"
   ]
  },
  {
   "cell_type": "markdown",
   "metadata": {},
   "source": [
    "3. '학정번호' 칼럼을 기준으로 중복값 출력 및 처리 (매치업 강의는 전선을 남기고 교선을 없애기)"
   ]
  },
  {
   "cell_type": "code",
   "execution_count": null,
   "metadata": {},
   "outputs": [],
   "source": [
    "# '학정번호' 기준으로 중복 행을 찾아 처리\n",
    "def resolve_duplicates(group):\n",
    "    # '전선'이 있는 경우 그 행만 남기고 나머지 제거\n",
    "    if '전선' in group['이수'].values:\n",
    "        return group[group['이수'] == '전선']\n",
    "    return group\n",
    "\n",
    "df = df.groupby('학정번호', group_keys=False).apply(resolve_duplicates)"
   ]
  },
  {
   "cell_type": "code",
   "execution_count": 13,
   "metadata": {},
   "outputs": [
    {
     "name": "stdout",
     "output_type": "stream",
     "text": [
      "1            학정번호    과목명                           분반   연계  이수 학점 시수 담당교수  \\\n",
      "0  0000-1-8128-01  광운인되기                   외국인학생 수강불가  NaN  교필  1  1  김정권   \n",
      "1  0000-1-8128-02  광운인되기                    외국인만 수강가능  NaN  교선  1  1  한재현   \n",
      "2  I000-1-3362-01   대학영어  인공지능 융합대학 공통\\n(C1~C9,J5~J8)  NaN  교필  3  3  이진영   \n",
      "3  I000-1-3362-02   대학영어                          NaN  NaN  교필  3  3  손영희   \n",
      "4  I000-1-3362-03   대학영어                          NaN  NaN  교필  3  3  오경애   \n",
      "\n",
      "1 강의시간 (요일,교시)                        강의유형 연계전공  \n",
      "0          NaN  원격수업100,융합강의 1학기 또는 2학기 이수  NaN  \n",
      "1           금2                       외국인전용  NaN  \n",
      "2        월1,수2                         NaN  NaN  \n",
      "3        월2,수1                         NaN  NaN  \n",
      "4        월3,수4                         NaN  NaN  \n"
     ]
    }
   ],
   "source": [
    "# import pandas as pd\n",
    "# import re\n",
    "\n",
    "# # CSV 파일 이름 목록\n",
    "# csvs = [\"3-1. 강의시간표 전체(2024-2)\", \"3-2. 교양,매치업,군사학\", \"3-3. 연계,창업,융합,kw-vip\", \"3-4. 전공(전체)\"]\n",
    "\n",
    "# # 전처리된 데이터프레임을 저장할 리스트\n",
    "# dataframes = []\n",
    "\n",
    "# for i in range(len(csvs)):\n",
    "#     # CSV 파일 읽어오기\n",
    "#     df = pd.read_csv(csvs[i] + '.csv', encoding='euc-kr')\n",
    "\n",
    "#     # 0번 인덱스 행 삭제\n",
    "#     df = df.drop(index=0)\n",
    "\n",
    "#     # 1번 인덱스 행을 칼럼명으로 설정\n",
    "#     df.columns = df.iloc[0]\n",
    "    \n",
    "#     # 1번 인덱스 행 삭제\n",
    "#     df = df.drop(index=1)\n",
    "\n",
    "#     # 학정번호 형식을 정규 표현식으로 정의 (예: I040-2-6387-02)\n",
    "#     pattern = r'^[A-Za-z0-9]+-\\d-\\d{4}-\\d{2}$'\n",
    "\n",
    "#     # 학정번호 형식과 일치하는 행만 남기기\n",
    "#     df = df[df['학정번호'].apply(lambda x: bool(re.match(pattern, str(x))))]\n",
    "\n",
    "#     # 전처리된 데이터프레임을 리스트에 추가\n",
    "#     dataframes.append(df)\n",
    "\n",
    "# # 모든 데이터프레임을 하나로 합치기\n",
    "# merged_df = pd.concat(dataframes, ignore_index=True)\n",
    "\n",
    "# # 합쳐진 데이터프레임을 CSV 파일로 저장 (선택적)\n",
    "# merged_df.to_csv('강의_전체.csv', index=False, encoding='euc-kr')\n",
    "\n",
    "# # 최종 데이터프레임 출력\n",
    "# print(merged_df.head())\n"
   ]
  },
  {
   "cell_type": "code",
   "execution_count": 11,
   "metadata": {},
   "outputs": [
    {
     "name": "stdout",
     "output_type": "stream",
     "text": [
      "1            학정번호    과목명                           분반   연계  이수 학점 시수 담당교수  \\\n",
      "2  0000-1-8128-01  광운인되기                   외국인학생 수강불가  NaN  교필  1  1  김정권   \n",
      "3  0000-1-8128-02  광운인되기                    외국인만 수강가능  NaN  교선  1  1  한재현   \n",
      "4  I000-1-3362-01   대학영어  인공지능 융합대학 공통\\n(C1~C9,J5~J8)  NaN  교필  3  3  이진영   \n",
      "5  I000-1-3362-02   대학영어                          NaN  NaN  교필  3  3  손영희   \n",
      "\n",
      "1 강의시간 (요일,교시)                        강의유형  \n",
      "2          NaN  원격수업100,융합강의 1학기 또는 2학기 이수  \n",
      "3           금2                       외국인전용  \n",
      "4        월1,수2                         NaN  \n",
      "5        월2,수1                         NaN  \n",
      "1            학정번호    과목명                           분반   연계  이수 학점 시수 담당교수  \\\n",
      "2  0000-1-8128-01  광운인되기                   외국인학생 수강불가  NaN  교필  1  1  김정권   \n",
      "3  0000-1-8128-02  광운인되기                    외국인만 수강가능  NaN  교선  1  1  한재현   \n",
      "4  I000-1-3362-01   대학영어  인공지능 융합대학 공통\\n(C1~C9,J5~J8)  NaN  교필  3  3  이진영   \n",
      "5  I000-1-3362-02   대학영어                          NaN  NaN  교필  3  3  손영희   \n",
      "6  I000-1-3362-03   대학영어                          NaN  NaN  교필  3  3  오경애   \n",
      "\n",
      "1 강의시간 (요일,교시)                        강의유형  \n",
      "2          NaN  원격수업100,융합강의 1학기 또는 2학기 이수  \n",
      "3           금2                       외국인전용  \n",
      "4        월1,수2                         NaN  \n",
      "5        월2,수1                         NaN  \n",
      "6        월3,수4                         NaN  \n",
      "1                                                학정번호  과목명   분반   연계   이수  \\\n",
      "40  ? 2019학년도부터 ‘영어회화’ 교과목이 교양필수에서 교양선택으로 필수과목에서 해...  NaN  NaN  NaN  NaN   \n",
      "41                        ?필수?교양?교과목(융합적사고와글쓰기)?강의시간표  NaN  NaN  NaN  NaN   \n",
      "42                                        2024학년도 2학기  NaN  NaN  NaN  NaN   \n",
      "43                                               학정번호  과목명   분반   연계   이수   \n",
      "75  ? 2020학년도부터 ‘융합적사고와글쓰기’ 교과목이 전체 학생을 대상으로 필수로 적...  NaN  NaN  NaN  NaN   \n",
      "\n",
      "1    학점   시수  담당교수  강의시간 (요일,교시)  강의유형  \n",
      "40  NaN  NaN   NaN           NaN   NaN  \n",
      "41  NaN  NaN   NaN           NaN   NaN  \n",
      "42  NaN  NaN   NaN           NaN   NaN  \n",
      "43   학점   시수  담당교수  강의시간 (요일,교시)  강의유형  \n",
      "75  NaN  NaN   NaN           NaN   NaN  \n",
      "1            학정번호    과목명                           분반   연계  이수 학점 시수 담당교수  \\\n",
      "2  0000-1-8128-01  광운인되기                   외국인학생 수강불가  NaN  교필  1  1  김정권   \n",
      "3  0000-1-8128-02  광운인되기                    외국인만 수강가능  NaN  교선  1  1  한재현   \n",
      "4  I000-1-3362-01   대학영어  인공지능 융합대학 공통\\n(C1~C9,J5~J8)  NaN  교필  3  3  이진영   \n",
      "5  I000-1-3362-02   대학영어                          NaN  NaN  교필  3  3  손영희   \n",
      "\n",
      "1 강의시간 (요일,교시)                        강의유형  \n",
      "2          NaN  원격수업100,융합강의 1학기 또는 2학기 이수  \n",
      "3           금2                       외국인전용  \n",
      "4        월1,수2                         NaN  \n",
      "5        월2,수1                         NaN  \n",
      "1            학정번호    과목명                           분반   연계  이수 학점 시수 담당교수  \\\n",
      "2  0000-1-8128-01  광운인되기                   외국인학생 수강불가  NaN  교필  1  1  김정권   \n",
      "3  0000-1-8128-02  광운인되기                    외국인만 수강가능  NaN  교선  1  1  한재현   \n",
      "4  I000-1-3362-01   대학영어  인공지능 융합대학 공통\\n(C1~C9,J5~J8)  NaN  교필  3  3  이진영   \n",
      "5  I000-1-3362-02   대학영어                          NaN  NaN  교필  3  3  손영희   \n",
      "6  I000-1-3362-03   대학영어                          NaN  NaN  교필  3  3  오경애   \n",
      "\n",
      "1 강의시간 (요일,교시)                        강의유형  \n",
      "2          NaN  원격수업100,융합강의 1학기 또는 2학기 이수  \n",
      "3           금2                       외국인전용  \n",
      "4        월1,수2                         NaN  \n",
      "5        월2,수1                         NaN  \n",
      "6        월3,수4                         NaN  \n",
      "1                                                학정번호  과목명   분반   연계   이수  \\\n",
      "40  ? 2019학년도부터 ‘영어회화’ 교과목이 교양필수에서 교양선택으로 필수과목에서 해...  NaN  NaN  NaN  NaN   \n",
      "41                        ?필수?교양?교과목(융합적사고와글쓰기)?강의시간표  NaN  NaN  NaN  NaN   \n",
      "42                                        2024학년도 2학기  NaN  NaN  NaN  NaN   \n",
      "43                                               학정번호  과목명   분반   연계   이수   \n",
      "75  ? 2020학년도부터 ‘융합적사고와글쓰기’ 교과목이 전체 학생을 대상으로 필수로 적...  NaN  NaN  NaN  NaN   \n",
      "\n",
      "1    학점   시수  담당교수  강의시간 (요일,교시)  강의유형  \n",
      "40  NaN  NaN   NaN           NaN   NaN  \n",
      "41  NaN  NaN   NaN           NaN   NaN  \n",
      "42  NaN  NaN   NaN           NaN   NaN  \n",
      "43   학점   시수  담당교수  강의시간 (요일,교시)  강의유형  \n",
      "75  NaN  NaN   NaN           NaN   NaN  \n",
      "1            학정번호      과목명   분반  연계  이수 학점 시수 담당교수 강의시간 (요일,교시)     연계전공\n",
      "2  0000-2-6397-01      범죄학  NaN  연선  전선  3  3  임용진         금3,4  경찰학·범죄학\n",
      "3  0000-3-6396-01    범죄예방론  NaN  연선  전선  3  3  김미숙         금1,2      NaN\n",
      "4  0000-2-6377-01  사회복지실천론  NaN  연필  전선  3  3  김고은         수5,6    사회복지학\n",
      "5  0000-2-6378-01  지역사회복지론  NaN  연필  전선  3  3  구지윤         목3,4      NaN\n",
      "1            학정번호      과목명   분반  연계  이수 학점 시수 담당교수 강의시간 (요일,교시)     연계전공\n",
      "2  0000-2-6397-01      범죄학  NaN  연선  전선  3  3  임용진         금3,4  경찰학·범죄학\n",
      "3  0000-3-6396-01    범죄예방론  NaN  연선  전선  3  3  김미숙         금1,2      NaN\n",
      "4  0000-2-6377-01  사회복지실천론  NaN  연필  전선  3  3  김고은         수5,6    사회복지학\n",
      "5  0000-2-6378-01  지역사회복지론  NaN  연필  전선  3  3  구지윤         목3,4      NaN\n",
      "6  0000-3-5953-01    노인복지론  NaN  연필  전선  3  3  김성연         목5,6      NaN\n",
      "1                                                학정번호  과목명   분반   연계   이수  \\\n",
      "18  * 연계전공 교과과정상 모든 연계전공 교과목이 개설되지 않으며, 위 표에 기재되어 ...  NaN  NaN  NaN  NaN   \n",
      "19                                       ?융합교과목?강의시간표  NaN  NaN  NaN  NaN   \n",
      "20                                        2024학년도 2학기  NaN  NaN  NaN  NaN   \n",
      "21                                               학정번호  과목명   분반   연계   이수   \n",
      "34                                                NaN  NaN  NaN  NaN  NaN   \n",
      "\n",
      "1    학점   시수  담당교수  강의시간 (요일,교시)  연계전공  \n",
      "18  NaN  NaN   NaN           NaN   NaN  \n",
      "19  NaN  NaN   NaN           NaN   NaN  \n",
      "20  NaN  NaN   NaN           NaN   NaN  \n",
      "21   학점   시수  담당교수  강의시간 (요일,교시)  강의유형  \n",
      "34  NaN  NaN   NaN           NaN   NaN  \n",
      "1            학정번호        과목명                                  분반   연계  이수 학점  \\\n",
      "2  7000-1-3095-01  융합적사고와글쓰기  전자정보 공과대학 공통\\n(E1~E8,J1~J4, T1~T2)  NaN  교필  3   \n",
      "3  7000-1-3095-02  융합적사고와글쓰기                                 NaN  NaN  교필  3   \n",
      "4  7000-1-3095-03  융합적사고와글쓰기                                 NaN  NaN  교필  3   \n",
      "5  7000-1-3095-04  융합적사고와글쓰기                                 NaN  NaN  교필  3   \n",
      "\n",
      "1 시수 담당교수 강의시간 (요일,교시) 강의유형  \n",
      "2  3  유승호        월1,수2  NaN  \n",
      "3  3  안웅선        월2,수1  NaN  \n",
      "4  3  손미영        월3,수4  NaN  \n",
      "5  3  손미영        월4,수3  NaN  \n",
      "1            학정번호        과목명                                  분반   연계  이수 학점  \\\n",
      "2  7000-1-3095-01  융합적사고와글쓰기  전자정보 공과대학 공통\\n(E1~E8,J1~J4, T1~T2)  NaN  교필  3   \n",
      "3  7000-1-3095-02  융합적사고와글쓰기                                 NaN  NaN  교필  3   \n",
      "4  7000-1-3095-03  융합적사고와글쓰기                                 NaN  NaN  교필  3   \n",
      "5  7000-1-3095-04  융합적사고와글쓰기                                 NaN  NaN  교필  3   \n",
      "6  7000-1-3095-05  융합적사고와글쓰기                                 NaN  NaN  교필  3   \n",
      "\n",
      "1 시수 담당교수 강의시간 (요일,교시) 강의유형  \n",
      "2  3  유승호        월1,수2  NaN  \n",
      "3  3  안웅선        월2,수1  NaN  \n",
      "4  3  손미영        월3,수4  NaN  \n",
      "5  3  손미영        월4,수3  NaN  \n",
      "6  3  정재훈        월5,수6  NaN  \n",
      "1                                                학정번호  과목명   분반   연계   이수  \\\n",
      "32  * 2024학년도부터 확률및불규칙신호론,수치해석이 기필 → 전선으로 변경되며 전정대...  NaN  NaN  NaN  NaN   \n",
      "33                                        2024학년도 2학기  NaN  NaN  NaN  NaN   \n",
      "34                                               학정번호  과목명   분반   연계   이수   \n",
      "60  * 2024학년도부터 기초교양이 전선 또는 교선으로 이수구분 변경됨. 학정번호와 대...  NaN  NaN  NaN  NaN   \n",
      "61                                        2024학년도 2학기  NaN  NaN  NaN  NaN   \n",
      "\n",
      "1    학점   시수  담당교수  강의시간 (요일,교시)  강의유형  \n",
      "32  NaN  NaN   NaN           NaN   NaN  \n",
      "33  NaN  NaN   NaN           NaN   NaN  \n",
      "34   학점   시수  담당교수  강의시간 (요일,교시)  강의유형  \n",
      "60  NaN  NaN   NaN           NaN   NaN  \n",
      "61  NaN  NaN   NaN           NaN   NaN  \n"
     ]
    }
   ],
   "source": [
    "# import pandas as pd\n",
    "# import re\n",
    "\n",
    "# csvs = [\"3-1. 강의시간표 전체(2024-2)\",\"3-2. 교양,매치업,군사학\", \"3-3. 연계,창업,융합,kw-vip\", \"3-4. 전공(전체)\"]\n",
    "\n",
    "# for i in range(len(csvs)):\n",
    "#     # CSV 파일 읽어오기\n",
    "#     df = pd.read_csv(csvs[i]+'.csv', encoding='euc-kr')\n",
    "\n",
    "\n",
    "#     # 0번 인덱스 행 삭제\n",
    "#     df = df.drop(index=0)\n",
    "\n",
    "#     # 1번 인덱스 행을 칼럼명으로 설정\n",
    "#     df.columns = df.iloc[0]\n",
    "#     # 0번 인덱스 행 삭제\n",
    "#     df = df.drop(index=1)\n",
    "#     # 상위 3-4개 행 출력하기\n",
    "#     print(df.head(4))\n",
    "\n",
    "\n",
    "#     # 학정번호 형식을 정규 표현식으로 정의 (예: I040-2-6387-02)\n",
    "#     pattern = r'^[A-Za-z0-9]+-\\d-\\d{4}-\\d{2}$'\n",
    "\n",
    "#     # 학정번호 형식과 일치하지 않는 행을 필터링\n",
    "#     invalid_rows = df[~df['학정번호'].apply(lambda x: bool(re.match(pattern, str(x))))]\n",
    "\n",
    "#     # 학정번호 형식과 일치하는 행만 남기기\n",
    "#     df = df[df['학정번호'].apply(lambda x: bool(re.match(pattern, str(x))))]\n",
    "\n",
    "#     # 삭제된 행들을 CSV 파일로 저장\n",
    "#     invalid_rows.to_csv('중간과정/1.invalid_rows'+csvs[i]+'.csv', index=False, encoding='euc-kr')\n",
    "\n",
    "#     # 수정된 데이터프레임 출력\n",
    "#     print(df.head())\n",
    "\n",
    "#     # 학정번호 형식과 일치하지 않는 행들을 확인하기 위해 출력 (선택적)\n",
    "#     print(invalid_rows.head())\n"
   ]
  },
  {
   "cell_type": "markdown",
   "metadata": {},
   "source": [
    "### 4. 분반에 대한 단어 포함관계 확인\n",
    "\n",
    "분반에서 추출할 수 있는 정보는 \n",
    "1. 학과별 분반 정보 ex)\"공대합반\", \"인융대(A1,A2)\", \"V1,V4\", \"J1~J3\", 참빛인재대학 전용, '타학과생(다전공생 포함)\\n수강불가'\n",
    "2. 외국인 ex)외국인만 수강가능 , 외국인 수강 불가\n",
    "3. 학년정보 1학년 2학년 3학년\n",
    "4. 체육특기자만 수강 가능 여부\n",
    "5. 재수강용"
   ]
  },
  {
   "cell_type": "code",
   "execution_count": 1,
   "metadata": {},
   "outputs": [
    {
     "name": "stdout",
     "output_type": "stream",
     "text": [
      "분반에 포함된 유니크한 값:\n",
      "['체육특기자만 수강가능']\n"
     ]
    }
   ],
   "source": [
    "import pandas as pd\n",
    "\n",
    "# CSV 파일 읽어오기\n",
    "df = pd.read_csv('강의_전체.csv', encoding='euc-kr')\n",
    "\n",
    "\n",
    "# '체육특기'가 포함된 행 필터링, NaN 값을 False로 처리\n",
    "foreign_students = df[df['분반'].str.contains('체육특기', na=False)]\n",
    "\n",
    "# '외국인'이 포함된 유니크한 값 추출\n",
    "unique_foreign_classes = foreign_students['분반'].unique()\n",
    "\n",
    "# 결과 출력\n",
    "print(\"분반에 포함된 유니크한 값:\")\n",
    "print(unique_foreign_classes)\n"
   ]
  },
  {
   "cell_type": "code",
   "execution_count": 2,
   "metadata": {},
   "outputs": [
    {
     "name": "stdout",
     "output_type": "stream",
     "text": [
      "분반에 포함된 유니크한 값:\n",
      "['외국인학생 수강불가' '외국인만 수강가능' '공대 합반\\n외국인만수강가능' '전정대 합반 외국인만 수강가능']\n"
     ]
    }
   ],
   "source": [
    "# '체육특기'가 포함된 행 필터링, NaN 값을 False로 처리\n",
    "foreign_students = df[df['분반'].str.contains('외국인', na=False)]\n",
    "\n",
    "# '외국인'이 포함된 유니크한 값 추출\n",
    "unique_foreign_classes = foreign_students['분반'].unique()\n",
    "\n",
    "# 결과 출력\n",
    "print(\"분반에 포함된 유니크한 값:\")\n",
    "print(unique_foreign_classes)\n"
   ]
  },
  {
   "cell_type": "code",
   "execution_count": 3,
   "metadata": {},
   "outputs": [
    {
     "name": "stdout",
     "output_type": "stream",
     "text": [
      "분반에 포함된 유니크한 값:\n",
      "['참빛인재대학 전용']\n"
     ]
    }
   ],
   "source": [
    "# '체육특기'가 포함된 행 필터링, NaN 값을 False로 처리\n",
    "foreign_students = df[df['분반'].str.contains('참빛', na=False)]\n",
    "\n",
    "# '외국인'이 포함된 유니크한 값 추출\n",
    "unique_foreign_classes = foreign_students['분반'].unique()\n",
    "\n",
    "# 결과 출력\n",
    "print(\"분반에 포함된 유니크한 값:\")\n",
    "print(unique_foreign_classes)\n"
   ]
  },
  {
   "cell_type": "code",
   "execution_count": 4,
   "metadata": {},
   "outputs": [
    {
     "name": "stdout",
     "output_type": "stream",
     "text": [
      "분반에 포함된 유니크한 값:\n",
      "['타학과생(다전공생 포함)\\n수강불가']\n"
     ]
    }
   ],
   "source": [
    "# '체육특기'가 포함된 행 필터링, NaN 값을 False로 처리\n",
    "foreign_students = df[df['분반'].str.contains('타학과', na=False)]\n",
    "\n",
    "# '외국인'이 포함된 유니크한 값 추출\n",
    "unique_foreign_classes = foreign_students['분반'].unique()\n",
    "\n",
    "# 결과 출력\n",
    "print(\"분반에 포함된 유니크한 값:\")\n",
    "print(unique_foreign_classes)\n"
   ]
  },
  {
   "cell_type": "code",
   "execution_count": 5,
   "metadata": {},
   "outputs": [
    {
     "name": "stdout",
     "output_type": "stream",
     "text": [
      "분반에 포함된 유니크한 값:\n",
      "['로봇 2학년 택 1' '1학년만 수강가능' '2~4학년 수강대상' '전정대 1학년' '인융대 1학년' '공대 1학년'\n",
      " '자연대 1학년' '전자 2학년' '전통 2학년' '전융 2학년' '화공 2학년' '건축공학 2학년' '소프트 2학년'\n",
      " '2~4학년 수강분반']\n"
     ]
    }
   ],
   "source": [
    "# '체육특기'가 포함된 행 필터링, NaN 값을 False로 처리\n",
    "foreign_students = df[df['분반'].str.contains('학년', na=False)]\n",
    "\n",
    "# '외국인'이 포함된 유니크한 값 추출\n",
    "unique_foreign_classes = foreign_students['분반'].unique()\n",
    "\n",
    "# 결과 출력\n",
    "print(\"분반에 포함된 유니크한 값:\")\n",
    "print(unique_foreign_classes)\n"
   ]
  },
  {
   "cell_type": "code",
   "execution_count": 6,
   "metadata": {},
   "outputs": [
    {
     "name": "stdout",
     "output_type": "stream",
     "text": [
      "분반에 포함된 유니크한 값:\n",
      "['재수강용']\n"
     ]
    }
   ],
   "source": [
    "# '체육특기'가 포함된 행 필터링, NaN 값을 False로 처리\n",
    "foreign_students = df[df['분반'].str.contains('재수강', na=False)]\n",
    "\n",
    "# '외국인'이 포함된 유니크한 값 추출\n",
    "unique_foreign_classes = foreign_students['분반'].unique()\n",
    "\n",
    "# 결과 출력\n",
    "print(\"분반에 포함된 유니크한 값:\")\n",
    "print(unique_foreign_classes)"
   ]
  },
  {
   "cell_type": "code",
   "execution_count": 12,
   "metadata": {},
   "outputs": [],
   "source": [
    "import pandas as pd\n",
    "import re\n",
    "# CSV 파일 읽어오기\n",
    "df = pd.read_csv('강의_전체.csv', encoding='euc-kr')\n",
    "\n",
    "# NaN 값을 빈 문자열로 대체\n",
    "df['분반'] = df['분반'].fillna(\"\")\n",
    "# NaN 값을 빈 문자열로 대체\n",
    "df['분반_원본'] = df['분반'].fillna(\"\")\n"
   ]
  },
  {
   "cell_type": "code",
   "execution_count": 13,
   "metadata": {},
   "outputs": [
    {
     "name": "stderr",
     "output_type": "stream",
     "text": [
      "C:\\Users\\Admin\\AppData\\Local\\Temp\\ipykernel_20700\\3695925010.py:8: FutureWarning: Setting an item of incompatible dtype is deprecated and will raise in a future error of pandas. Value 'True' has dtype incompatible with float64, please explicitly cast to a compatible dtype first.\n",
      "  df.loc[df['분반'] == condition, ['외국인재학생', '국내재학생']] = [True, False]\n",
      "C:\\Users\\Admin\\AppData\\Local\\Temp\\ipykernel_20700\\3695925010.py:8: FutureWarning: Setting an item of incompatible dtype is deprecated and will raise in a future error of pandas. Value 'False' has dtype incompatible with float64, please explicitly cast to a compatible dtype first.\n",
      "  df.loc[df['분반'] == condition, ['외국인재학생', '국내재학생']] = [True, False]\n"
     ]
    }
   ],
   "source": [
    "# 조건에 따라 열 값 수정\n",
    "conditions_foreign = ['외국인만 수강가능', '공대 합반\\n외국인만수강가능', '전정대 합반 외국인만 수강가능']\n",
    "condition_domestic = '외국인학생 수강불가'\n",
    "\n",
    "\n",
    "# 외국인재학생 = True, 국내재학생 = False 설정\n",
    "for condition in conditions_foreign:\n",
    "    df.loc[df['분반'] == condition, ['외국인재학생', '국내재학생']] = [True, False]\n",
    "\n",
    "\n",
    "# 외국인재학생 = False, 국내재학생 = True 설정\n",
    "df.loc[df['분반'] == condition_domestic, ['외국인재학생', '국내재학생']] = [False, True]"
   ]
  },
  {
   "cell_type": "markdown",
   "metadata": {},
   "source": [
    "## 칼럼 추가"
   ]
  },
  {
   "cell_type": "code",
   "execution_count": 14,
   "metadata": {},
   "outputs": [],
   "source": [
    "# '참빛인재대학'이 포함되어 있는지 확인하고, 조건에 따라 새 열에 'V1,V2,V3,V4' 할당\n",
    "df['분반_학과1'] = df['분반'].apply(lambda x: 'V1,V2,V3,V4' if '참빛인재대학' in x else \"\")\n",
    "\n",
    "# '참빛인재대학'이 포함되어 있는지 확인하고, 조건에 따라 새 열에 'TRUE' 할당\n",
    "df['체육특기자'] = df['분반'].apply(lambda x: 'TRUE' if '체육특기자' in x else \"\")\n",
    "\n",
    "# '참빛인재대학'이 포함되어 있는지 확인하고, 조건에 따라 새 열에 'TRUE' 할당\n",
    "df['재수강용'] = df['분반'].apply(lambda x: 'TRUE' if '재수강' in x else \"\")\n",
    "\n",
    "# '참빛인재대학'이 포함되어 있는지 확인하고, 조건에 따라 새 열에 'TRUE' 할당\n",
    "df['타학과수강불가'] = df['분반'].apply(lambda x: 'FALSE' if '타학과' in x else \"\")"
   ]
  },
  {
   "cell_type": "code",
   "execution_count": 15,
   "metadata": {},
   "outputs": [],
   "source": [
    "# 삭제할 문자열 리스트\n",
    "remove_items = ['체육실기', '음악실기', '미술실기']\n",
    "\n",
    "# 특정 문자열 삭제\n",
    "for item in remove_items:\n",
    "    df['분반'] = df['분반'].str.replace(item, '')\n"
   ]
  },
  {
   "cell_type": "markdown",
   "metadata": {},
   "source": [
    "## 학년 처리"
   ]
  },
  {
   "cell_type": "code",
   "execution_count": 23,
   "metadata": {},
   "outputs": [
    {
     "ename": "KeyError",
     "evalue": "'분반'",
     "output_type": "error",
     "traceback": [
      "\u001b[1;31m---------------------------------------------------------------------------\u001b[0m",
      "\u001b[1;31mKeyError\u001b[0m                                  Traceback (most recent call last)",
      "File \u001b[1;32mc:\\Users\\Admin\\anaconda3\\Lib\\site-packages\\pandas\\core\\indexes\\base.py:3791\u001b[0m, in \u001b[0;36mIndex.get_loc\u001b[1;34m(self, key)\u001b[0m\n\u001b[0;32m   3790\u001b[0m \u001b[38;5;28;01mtry\u001b[39;00m:\n\u001b[1;32m-> 3791\u001b[0m     \u001b[38;5;28;01mreturn\u001b[39;00m \u001b[38;5;28;43mself\u001b[39;49m\u001b[38;5;241;43m.\u001b[39;49m\u001b[43m_engine\u001b[49m\u001b[38;5;241;43m.\u001b[39;49m\u001b[43mget_loc\u001b[49m\u001b[43m(\u001b[49m\u001b[43mcasted_key\u001b[49m\u001b[43m)\u001b[49m\n\u001b[0;32m   3792\u001b[0m \u001b[38;5;28;01mexcept\u001b[39;00m \u001b[38;5;167;01mKeyError\u001b[39;00m \u001b[38;5;28;01mas\u001b[39;00m err:\n",
      "File \u001b[1;32mindex.pyx:152\u001b[0m, in \u001b[0;36mpandas._libs.index.IndexEngine.get_loc\u001b[1;34m()\u001b[0m\n",
      "File \u001b[1;32mindex.pyx:181\u001b[0m, in \u001b[0;36mpandas._libs.index.IndexEngine.get_loc\u001b[1;34m()\u001b[0m\n",
      "File \u001b[1;32mpandas\\_libs\\hashtable_class_helper.pxi:7080\u001b[0m, in \u001b[0;36mpandas._libs.hashtable.PyObjectHashTable.get_item\u001b[1;34m()\u001b[0m\n",
      "File \u001b[1;32mpandas\\_libs\\hashtable_class_helper.pxi:7088\u001b[0m, in \u001b[0;36mpandas._libs.hashtable.PyObjectHashTable.get_item\u001b[1;34m()\u001b[0m\n",
      "\u001b[1;31mKeyError\u001b[0m: '분반'",
      "\nThe above exception was the direct cause of the following exception:\n",
      "\u001b[1;31mKeyError\u001b[0m                                  Traceback (most recent call last)",
      "Cell \u001b[1;32mIn[23], line 15\u001b[0m\n\u001b[0;32m     12\u001b[0m     \u001b[38;5;28;01mreturn\u001b[39;00m \u001b[38;5;124m'\u001b[39m\u001b[38;5;124m,\u001b[39m\u001b[38;5;124m'\u001b[39m\u001b[38;5;241m.\u001b[39mjoin(grades)\n\u001b[0;32m     14\u001b[0m \u001b[38;5;66;03m# 새로운 열 '학년 정보' 추가\u001b[39;00m\n\u001b[1;32m---> 15\u001b[0m df[\u001b[38;5;124m'\u001b[39m\u001b[38;5;124m학년\u001b[39m\u001b[38;5;124m'\u001b[39m] \u001b[38;5;241m=\u001b[39m \u001b[43mdf\u001b[49m\u001b[43m[\u001b[49m\u001b[38;5;124;43m'\u001b[39;49m\u001b[38;5;124;43m분반\u001b[39;49m\u001b[38;5;124;43m'\u001b[39;49m\u001b[43m]\u001b[49m\u001b[38;5;241m.\u001b[39mapply(extract_grade_info)\n\u001b[0;32m     16\u001b[0m df[\u001b[38;5;124m'\u001b[39m\u001b[38;5;124m학년\u001b[39m\u001b[38;5;124m'\u001b[39m]\u001b[38;5;241m.\u001b[39mvalue_counts()\n",
      "File \u001b[1;32mc:\\Users\\Admin\\anaconda3\\Lib\\site-packages\\pandas\\core\\frame.py:3893\u001b[0m, in \u001b[0;36mDataFrame.__getitem__\u001b[1;34m(self, key)\u001b[0m\n\u001b[0;32m   3891\u001b[0m \u001b[38;5;28;01mif\u001b[39;00m \u001b[38;5;28mself\u001b[39m\u001b[38;5;241m.\u001b[39mcolumns\u001b[38;5;241m.\u001b[39mnlevels \u001b[38;5;241m>\u001b[39m \u001b[38;5;241m1\u001b[39m:\n\u001b[0;32m   3892\u001b[0m     \u001b[38;5;28;01mreturn\u001b[39;00m \u001b[38;5;28mself\u001b[39m\u001b[38;5;241m.\u001b[39m_getitem_multilevel(key)\n\u001b[1;32m-> 3893\u001b[0m indexer \u001b[38;5;241m=\u001b[39m \u001b[38;5;28;43mself\u001b[39;49m\u001b[38;5;241;43m.\u001b[39;49m\u001b[43mcolumns\u001b[49m\u001b[38;5;241;43m.\u001b[39;49m\u001b[43mget_loc\u001b[49m\u001b[43m(\u001b[49m\u001b[43mkey\u001b[49m\u001b[43m)\u001b[49m\n\u001b[0;32m   3894\u001b[0m \u001b[38;5;28;01mif\u001b[39;00m is_integer(indexer):\n\u001b[0;32m   3895\u001b[0m     indexer \u001b[38;5;241m=\u001b[39m [indexer]\n",
      "File \u001b[1;32mc:\\Users\\Admin\\anaconda3\\Lib\\site-packages\\pandas\\core\\indexes\\base.py:3798\u001b[0m, in \u001b[0;36mIndex.get_loc\u001b[1;34m(self, key)\u001b[0m\n\u001b[0;32m   3793\u001b[0m     \u001b[38;5;28;01mif\u001b[39;00m \u001b[38;5;28misinstance\u001b[39m(casted_key, \u001b[38;5;28mslice\u001b[39m) \u001b[38;5;129;01mor\u001b[39;00m (\n\u001b[0;32m   3794\u001b[0m         \u001b[38;5;28misinstance\u001b[39m(casted_key, abc\u001b[38;5;241m.\u001b[39mIterable)\n\u001b[0;32m   3795\u001b[0m         \u001b[38;5;129;01mand\u001b[39;00m \u001b[38;5;28many\u001b[39m(\u001b[38;5;28misinstance\u001b[39m(x, \u001b[38;5;28mslice\u001b[39m) \u001b[38;5;28;01mfor\u001b[39;00m x \u001b[38;5;129;01min\u001b[39;00m casted_key)\n\u001b[0;32m   3796\u001b[0m     ):\n\u001b[0;32m   3797\u001b[0m         \u001b[38;5;28;01mraise\u001b[39;00m InvalidIndexError(key)\n\u001b[1;32m-> 3798\u001b[0m     \u001b[38;5;28;01mraise\u001b[39;00m \u001b[38;5;167;01mKeyError\u001b[39;00m(key) \u001b[38;5;28;01mfrom\u001b[39;00m \u001b[38;5;21;01merr\u001b[39;00m\n\u001b[0;32m   3799\u001b[0m \u001b[38;5;28;01mexcept\u001b[39;00m \u001b[38;5;167;01mTypeError\u001b[39;00m:\n\u001b[0;32m   3800\u001b[0m     \u001b[38;5;66;03m# If we have a listlike key, _check_indexing_error will raise\u001b[39;00m\n\u001b[0;32m   3801\u001b[0m     \u001b[38;5;66;03m#  InvalidIndexError. Otherwise we fall through and re-raise\u001b[39;00m\n\u001b[0;32m   3802\u001b[0m     \u001b[38;5;66;03m#  the TypeError.\u001b[39;00m\n\u001b[0;32m   3803\u001b[0m     \u001b[38;5;28mself\u001b[39m\u001b[38;5;241m.\u001b[39m_check_indexing_error(key)\n",
      "\u001b[1;31mKeyError\u001b[0m: '분반'"
     ]
    }
   ],
   "source": [
    "# 새로운 열 추가를 위한 함수 정의\n",
    "def extract_grade_info(row):\n",
    "    grades = []\n",
    "    if '1학년' in row:\n",
    "        grades.append('1')\n",
    "    if '2학년' in row:\n",
    "        grades.append('2')\n",
    "    if '3학년' in row:\n",
    "        grades.append('3')\n",
    "    if '2~4학년' in row:\n",
    "        grades.append('2,3,4')\n",
    "    return ','.join(grades)\n",
    "\n",
    "# 새로운 열 '학년 정보' 추가\n",
    "df['학년'] = df['분반'].apply(extract_grade_info)\n",
    "df['학년'].value_counts()"
   ]
  },
  {
   "cell_type": "markdown",
   "metadata": {},
   "source": [
    "## 분반 처리"
   ]
  },
  {
   "cell_type": "code",
   "execution_count": 17,
   "metadata": {},
   "outputs": [
    {
     "name": "stdout",
     "output_type": "stream",
     "text": [
      "                학정번호        과목명                           분반   연계  이수  학점  시수  \\\n",
      "0     0000-1-8128-01      광운인되기                   외국인학생 수강불가  NaN  교필   1   1   \n",
      "1     0000-1-8128-02      광운인되기                    외국인만 수강가능  NaN  교선   1   1   \n",
      "2     I000-1-3362-01       대학영어  인공지능 융합대학 공통\\n(C1~C9,J5~J8)  NaN  교필   3   3   \n",
      "3     I000-1-3362-02       대학영어                               NaN  교필   3   3   \n",
      "4     I000-1-3362-03       대학영어                               NaN  교필   3   3   \n",
      "...              ...        ...                          ...  ...  ..  ..  ..   \n",
      "3111  J030-1-7714-01    콘텐츠기획개론                           V2  NaN  전필   3   3   \n",
      "3112  J040-1-0444-01      디지털공학                           V3  NaN  전필   3   3   \n",
      "3113  J040-1-1186-01       이산수학                           V3  NaN  전선   3   3   \n",
      "3114  J050-1-5003-01       건강교육                           V4  NaN  전선   3   3   \n",
      "3115  J050-1-5004-01  스포츠엔터테인먼트                           V4  NaN  전선   3   3   \n",
      "\n",
      "     담당교수 강의시간 (요일,교시)                        강의유형 연계전공  \\\n",
      "0     김정권          NaN  원격수업100,융합강의 1학기 또는 2학기 이수  NaN   \n",
      "1     한재현           금2                       외국인전용  NaN   \n",
      "2     이진영        월1,수2                         NaN  NaN   \n",
      "3     손영희        월2,수1                         NaN  NaN   \n",
      "4     오경애        월3,수4                         NaN  NaN   \n",
      "...   ...          ...                         ...  ...   \n",
      "3111  정형원          NaN               원격수업100,TBL강의  NaN   \n",
      "3112  손광철     수9,10,11                       PBL강의  NaN   \n",
      "3113  황이환          NaN                    원격수업100?  NaN   \n",
      "3114   박석         토5,6                         NaN  NaN   \n",
      "3115  김준희          NaN                    원격수업100?  NaN   \n",
      "\n",
      "                            분반_원본 외국인재학생  국내재학생 분반_학과1 체육특기자 재수강용 타학과수강불가 학년  \\\n",
      "0                      외국인학생 수강불가  False   True                                \n",
      "1                       외국인만 수강가능   True  False                                \n",
      "2     인공지능 융합대학 공통\\n(C1~C9,J5~J8)    NaN    NaN                                \n",
      "3                                    NaN    NaN                                \n",
      "4                                    NaN    NaN                                \n",
      "...                           ...    ...    ...    ...   ...  ...     ... ..   \n",
      "3111                           V2    NaN    NaN                                \n",
      "3112                           V3    NaN    NaN                                \n",
      "3113                           V3    NaN    NaN                                \n",
      "3114                           V4    NaN    NaN                                \n",
      "3115                           V4    NaN    NaN                                \n",
      "\n",
      "                                       분반_학과  \n",
      "0                                             \n",
      "1                                             \n",
      "2     C1,C2,C3,C4,C5,C6,C7,C8,C9,J5,J6,J7,J8  \n",
      "3                                             \n",
      "4                                             \n",
      "...                                      ...  \n",
      "3111                                          \n",
      "3112                                          \n",
      "3113                                          \n",
      "3114                                          \n",
      "3115                                          \n",
      "\n",
      "[3116 rows x 20 columns]\n"
     ]
    }
   ],
   "source": [
    "\n",
    "# NaN 값을 빈 문자열로 대체\n",
    "df['분반'] = df['분반'].fillna(\"\")\n",
    "\n",
    "#A1~A2이런식으로 생긴 애들 모음\n",
    "def expand_ranges(text):\n",
    "    # 정규 표현식을 사용하여 패턴을 인식하고 대체\n",
    "    pattern = re.compile(r'([A-Z])(\\d+)~\\1(\\d+)')\n",
    "\n",
    "    # 각 패턴에 대해 확장된 범위로 대체하고, 그 결과만 반환\n",
    "    def replace_range(match):\n",
    "        start_char = match.group(1)\n",
    "        start_num = int(match.group(2))\n",
    "        end_num = int(match.group(3))\n",
    "        return ','.join(f\"{start_char}{i}\" for i in range(start_num, end_num + 1))\n",
    "    \n",
    "    # 전체 문자열 대신, 일치하는 부분만 찾아서 리스트로 모아 반환\n",
    "    expanded_parts = pattern.findall(text)\n",
    "    expanded_results = [replace_range(match) for match in pattern.finditer(text)]\n",
    "    \n",
    "    return ','.join(expanded_results)  # 리스트를 문자열로 결합\n",
    "def replace_spaces_with_commas(text):\n",
    "    # 모든 공백을 콤마로 대체\n",
    "    return text.replace(\" \", \",\")\n",
    "\n",
    "# '분반' 열에 함수 적용\n",
    "df['분반_학과'] = df['분반'].apply(expand_ranges)\n",
    "\n",
    "# 결과 출력\n",
    "print(df)"
   ]
  },
  {
   "cell_type": "code",
   "execution_count": 18,
   "metadata": {},
   "outputs": [],
   "source": [
    "def remove_range_patterns(text):\n",
    "    # 정규 표현식을 사용하여 패턴을 인식하고 삭제\n",
    "    pattern = re.compile(r'([A-Z])(\\d+)~\\1(\\d+)')\n",
    "    \n",
    "    # 패턴과 일치하는 부분을 빈 문자열로 대체\n",
    "    result = pattern.sub('', str(text))\n",
    "    \n",
    "    # 결과 문자열의 앞뒤 공백 제거\n",
    "    return result.strip()\n",
    "\n",
    "# '분반' 열에 함수 적용\n",
    "df['분반'] = df['분반'].apply(remove_range_patterns)\n"
   ]
  },
  {
   "cell_type": "code",
   "execution_count": 19,
   "metadata": {},
   "outputs": [
    {
     "name": "stdout",
     "output_type": "stream",
     "text": [
      "                학정번호        과목명                 분반   연계  이수  학점  시수 담당교수  \\\n",
      "0     0000-1-8128-01      광운인되기         외국인학생 수강불가  NaN  교필   1   1  김정권   \n",
      "1     0000-1-8128-02      광운인되기          외국인만 수강가능  NaN  교선   1   1  한재현   \n",
      "2     I000-1-3362-01       대학영어  인공지능 융합대학 공통\\n(,)  NaN  교필   3   3  이진영   \n",
      "3     I000-1-3362-02       대학영어                     NaN  교필   3   3  손영희   \n",
      "4     I000-1-3362-03       대학영어                     NaN  교필   3   3  오경애   \n",
      "...              ...        ...                ...  ...  ..  ..  ..  ...   \n",
      "3111  J030-1-7714-01    콘텐츠기획개론                 V2  NaN  전필   3   3  정형원   \n",
      "3112  J040-1-0444-01      디지털공학                 V3  NaN  전필   3   3  손광철   \n",
      "3113  J040-1-1186-01       이산수학                 V3  NaN  전선   3   3  황이환   \n",
      "3114  J050-1-5003-01       건강교육                 V4  NaN  전선   3   3   박석   \n",
      "3115  J050-1-5004-01  스포츠엔터테인먼트                 V4  NaN  전선   3   3  김준희   \n",
      "\n",
      "     강의시간 (요일,교시)                        강의유형  ... 외국인재학생  국내재학생 분반_학과1 체육특기자  \\\n",
      "0             NaN  원격수업100,융합강의 1학기 또는 2학기 이수  ...  False   True                \n",
      "1              금2                       외국인전용  ...   True  False                \n",
      "2           월1,수2                         NaN  ...    NaN    NaN                \n",
      "3           월2,수1                         NaN  ...    NaN    NaN                \n",
      "4           월3,수4                         NaN  ...    NaN    NaN                \n",
      "...           ...                         ...  ...    ...    ...    ...   ...   \n",
      "3111          NaN               원격수업100,TBL강의  ...    NaN    NaN                \n",
      "3112     수9,10,11                       PBL강의  ...    NaN    NaN                \n",
      "3113          NaN                    원격수업100?  ...    NaN    NaN                \n",
      "3114         토5,6                         NaN  ...    NaN    NaN                \n",
      "3115          NaN                    원격수업100?  ...    NaN    NaN                \n",
      "\n",
      "     재수강용 타학과수강불가 학년                                   분반_학과  \\\n",
      "0                                                              \n",
      "1                                                              \n",
      "2                     C1,C2,C3,C4,C5,C6,C7,C8,C9,J5,J6,J7,J8   \n",
      "3                                                              \n",
      "4                                                              \n",
      "...   ...     ... ..                                     ...   \n",
      "3111                                                           \n",
      "3112                                                           \n",
      "3113                                                           \n",
      "3114                                                           \n",
      "3115                                                           \n",
      "\n",
      "                  분반_정리 분반_패턴  \n",
      "0            외국인학생 수강불가        \n",
      "1             외국인만 수강가능        \n",
      "2     인공지능 융합대학 공통\\n(,)        \n",
      "3                              \n",
      "4                              \n",
      "...                 ...   ...  \n",
      "3111                       V2  \n",
      "3112                       V3  \n",
      "3113                       V3  \n",
      "3114                       V4  \n",
      "3115                       V4  \n",
      "\n",
      "[3116 rows x 22 columns]\n"
     ]
    }
   ],
   "source": [
    "#A1,A2이런식으로 생긴 애들 모음\n",
    "\n",
    "def separate_alphanumeric_patterns(text):\n",
    "    # 알파벳 하나와 숫자로 이루어진 패턴을 찾는 정규 표현식\n",
    "    pattern = re.compile(r'([A-Z]\\d+)')\n",
    "    \n",
    "    # 패턴과 일치하는 모든 부분 찾기\n",
    "    matches = pattern.findall(str(text))\n",
    "    \n",
    "    # 패턴과 일치하는 부분을 제거한 나머지 텍스트\n",
    "    remaining_text = pattern.sub('', str(text)).strip()\n",
    "    \n",
    "    # 찾은 패턴들을 콤마로 구분하여 하나의 문자열로 만듦\n",
    "    patterns = ','.join(matches) if matches else ''\n",
    "    \n",
    "    return remaining_text, patterns\n",
    "\n",
    "\n",
    "# '분반' 열에 함수 적용\n",
    "df['분반_정리'], df['분반_패턴'] = zip(*df['분반'].apply(separate_alphanumeric_patterns))\n",
    "\n",
    "# 결과 출력\n",
    "print(df)"
   ]
  },
  {
   "cell_type": "code",
   "execution_count": 20,
   "metadata": {},
   "outputs": [
    {
     "name": "stdout",
     "output_type": "stream",
     "text": [
      "                                       분반_학과 분반_패턴 분반_학과1  \\\n",
      "0                                                           \n",
      "1                                                           \n",
      "2     C1,C2,C3,C4,C5,C6,C7,C8,C9,J5,J6,J7,J8                \n",
      "3                                                           \n",
      "4                                                           \n",
      "...                                      ...   ...    ...   \n",
      "3111                                            V2          \n",
      "3112                                            V3          \n",
      "3113                                            V3          \n",
      "3114                                            V4          \n",
      "3115                                            V4          \n",
      "\n",
      "                                       분반_최종  \n",
      "0                                             \n",
      "1                                             \n",
      "2     C1,C2,C3,C4,C5,C6,C7,C8,C9,J5,J6,J7,J8  \n",
      "3                                             \n",
      "4                                             \n",
      "...                                      ...  \n",
      "3111                                      V2  \n",
      "3112                                      V3  \n",
      "3113                                      V3  \n",
      "3114                                      V4  \n",
      "3115                                      V4  \n",
      "\n",
      "[3116 rows x 4 columns]\n"
     ]
    }
   ],
   "source": [
    "def combine_and_deduplicate(row):\n",
    "    # '분반_학과'와 '분반_패턴'의 값을 합칩니다\n",
    "    combined = f\"{row['분반_학과']},{row['분반_학과1']},{row['분반_패턴']}\"\n",
    "    \n",
    "    # 콤마로 분리하고 공백을 제거합니다\n",
    "    patterns = [p.strip() for p in combined.split(',') if p.strip()]\n",
    "    \n",
    "    # 중복을 제거하고 정렬합니다\n",
    "    unique_patterns = sorted(set(patterns))\n",
    "    \n",
    "    # 다시 콤마로 구분된 문자열로 만듭니다\n",
    "    return ','.join(unique_patterns)\n",
    "\n",
    "# '분반_최종' 열 생성\n",
    "df['분반_최종'] = df.apply(combine_and_deduplicate, axis=1)\n",
    "\n",
    "# 결과 출력\n",
    "print(df[['분반_학과', '분반_패턴','분반_학과1', '분반_최종']])\n",
    "\n",
    "# 불필요한 열 삭제\n",
    "columns_to_drop = ['분반_학과', '분반_학과1', '분반_정리', '분반_패턴', '분반']\n",
    "df = df.drop(columns=columns_to_drop)"
   ]
  },
  {
   "cell_type": "code",
   "execution_count": 21,
   "metadata": {},
   "outputs": [],
   "source": [
    "#타학과생(다전공생 포함)\\n수강불가 -> 수동으로 분반_최종에 추가하는 처리 필요"
   ]
  },
  {
   "cell_type": "code",
   "execution_count": 22,
   "metadata": {},
   "outputs": [],
   "source": [
    "# 결과를 CSV 파일로 저장\n",
    "df.to_csv('df_result_expanded2.csv', index=False, encoding='euc-kr')"
   ]
  },
  {
   "cell_type": "markdown",
   "metadata": {},
   "source": [
    "## 추가로 해야할 일\n",
    "\n",
    "1. 전공인정분반 추가\n",
    "2. 타학과전공인정과목분반 추가\n",
    "3. 선수과목 관계 추가"
   ]
  },
  {
   "cell_type": "markdown",
   "metadata": {},
   "source": [
    "<윤나>\n",
    "\n",
    "1. 학정번호 기준 중복값 처리 (매치업 강의는 전선을 남기기)\n",
    "2. ‘분반_최종’을 ‘수강가능한 학과’로 이름을 바꾸고, 나머지 빈 셀을 모든 학과 코드 적기\n",
    "3. ‘전공 인정 학과’ 새 칼럼을 생성하고, ‘이수’칼럼이 ‘전선’, ‘전필’인 경우에 해당하는 칼럼으로,\n",
    "학정번호 앞 4글자가 아래 표에서 찾아서 해당 학과코드를 넣기\n",
    "4. 강의시간 좌표형 변환\n",
    "5. 강의 테마 칼럼 추가\n",
    "’이수’가 교선,교필일 경우에 해당하는 칼럼으로 → 코드대신 엑셀에서 드래그가 훨씬 나을거 같음"
   ]
  },
  {
   "cell_type": "code",
   "execution_count": 2,
   "metadata": {},
   "outputs": [],
   "source": [
    "import pandas as pd\n",
    "\n",
    "df1 = pd.read_csv(r\"./강의계획서_전체_v1.csv\", encoding=\"cp949\")"
   ]
  },
  {
   "cell_type": "code",
   "execution_count": 3,
   "metadata": {},
   "outputs": [
    {
     "data": {
      "text/plain": [
       "Index(['학정번호', '과목명', '연계', '이수', '학점', '시수', '담당교수', '강의시간 (요일,교시)', '강의유형',\n",
       "       '연계전공', '분반_원본', '외국인재학생', '국내재학생', '체육특기자', '재수강용', '타학과수강불가', '학년',\n",
       "       '분반_최종'],\n",
       "      dtype='object')"
      ]
     },
     "execution_count": 3,
     "metadata": {},
     "output_type": "execute_result"
    }
   ],
   "source": [
    "df1.columns"
   ]
  },
  {
   "cell_type": "code",
   "execution_count": null,
   "metadata": {},
   "outputs": [],
   "source": []
  },
  {
   "cell_type": "code",
   "execution_count": null,
   "metadata": {},
   "outputs": [],
   "source": []
  }
 ],
 "metadata": {
  "kernelspec": {
   "display_name": "base",
   "language": "python",
   "name": "python3"
  },
  "language_info": {
   "codemirror_mode": {
    "name": "ipython",
    "version": 3
   },
   "file_extension": ".py",
   "mimetype": "text/x-python",
   "name": "python",
   "nbconvert_exporter": "python",
   "pygments_lexer": "ipython3",
   "version": "3.11.9"
  }
 },
 "nbformat": 4,
 "nbformat_minor": 2
}
