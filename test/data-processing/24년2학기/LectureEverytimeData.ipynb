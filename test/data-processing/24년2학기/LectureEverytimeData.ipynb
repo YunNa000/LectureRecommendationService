{
 "cells": [
  {
   "cell_type": "code",
   "execution_count": 3,
   "metadata": {},
   "outputs": [
    {
     "name": "stdout",
     "output_type": "stream",
     "text": [
      "done\n"
     ]
    }
   ],
   "source": [
    "import sqlite3\n",
    "\n",
    "\n",
    "old_db_conn = sqlite3.connect('./backup/old.db')\n",
    "new_db_conn = sqlite3.connect('./kwu-lecture-db-v2.db')\n",
    "\n",
    "\n",
    "old_cursor = old_db_conn.cursor()\n",
    "new_cursor = new_db_conn.cursor()\n",
    "\n",
    "\n",
    "old_cursor.execute('''\n",
    "SELECT lecUrl, lecStars, lecAssignment, lecTeamplay, lecGrade, lecAttend, lecTestNum, year, semester, lecNumber\n",
    "FROM LectureTable\n",
    "''')\n",
    "\n",
    "\n",
    "rows = old_cursor.fetchall()\n",
    "\n",
    "\n",
    "for row in rows:\n",
    "    lecUrl = row[0]\n",
    "    star = row[1]\n",
    "    assignmentAmount = row[2]\n",
    "    teamplayAmount = row[3]\n",
    "    gradeAmount = row[4]\n",
    "    checkAttend = row[5]\n",
    "    testNum = row[6]\n",
    "    year = row[7]\n",
    "    semester = row[8]\n",
    "    lecNumber = row[9]\n",
    "\n",
    "    new_cursor.execute('''\n",
    "    SELECT lectureID FROM LectureList\n",
    "    WHERE year = ? AND semester = ? AND lecNumber = ?\n",
    "    ''', (year, semester, lecNumber))\n",
    "\n",
    "    lecture_id_row = new_cursor.fetchone()\n",
    "\n",
    "    if lecture_id_row:\n",
    "        lectureID = lecture_id_row[0]\n",
    "\n",
    "        new_cursor.execute('''\n",
    "        INSERT INTO LectureEverytimeData (lectureID, everytimeURL, star, assignmnetAmount, teamPlayAmount, gradeAmount, checkAttend, testNum)\n",
    "        VALUES (?, ?, ?, ?, ?, ?, ?, ?)\n",
    "        ''', (lectureID, lecUrl, star, assignmentAmount, teamplayAmount, gradeAmount, checkAttend, testNum))\n",
    "\n",
    "\n",
    "new_db_conn.commit()\n",
    "\n",
    "\n",
    "old_db_conn.close()\n",
    "new_db_conn.close()\n",
    "\n",
    "print(\"done\")"
   ]
  },
  {
   "cell_type": "code",
   "execution_count": null,
   "metadata": {},
   "outputs": [],
   "source": [
    "import sqlite3\n",
    "\n",
    "\n",
    "db_conn = sqlite3.connect('./kwu-lecture-db-v2.db')\n",
    "\n",
    "\n",
    "cursor = db_conn.cursor()\n",
    "\n",
    "\n",
    "cursor.execute('''\n",
    "UPDATE LectureList\n",
    "SET lecProfessor = ''\n",
    "WHERE lecProfessor IS NULL\n",
    "''')\n",
    "\n",
    "\n",
    "db_conn.commit()\n",
    "\n",
    "\n",
    "db_conn.close()\n",
    "\n",
    "print(\"done\")"
   ]
  }
 ],
 "metadata": {
  "kernelspec": {
   "display_name": ".env",
   "language": "python",
   "name": "python3"
  },
  "language_info": {
   "codemirror_mode": {
    "name": "ipython",
    "version": 3
   },
   "file_extension": ".py",
   "mimetype": "text/x-python",
   "name": "python",
   "nbconvert_exporter": "python",
   "pygments_lexer": "ipython3",
   "version": "3.11.9"
  }
 },
 "nbformat": 4,
 "nbformat_minor": 2
}
