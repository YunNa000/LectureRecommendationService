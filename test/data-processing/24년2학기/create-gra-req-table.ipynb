{
 "cells": [
  {
   "cell_type": "code",
   "execution_count": 1,
   "metadata": {},
   "outputs": [
    {
     "name": "stdout",
     "output_type": "stream",
     "text": [
      "done\n"
     ]
    }
   ],
   "source": [
    "import sqlite3\n",
    "\n",
    "conn = sqlite3.connect('./kwu-lecture-recommendation-v1.db')\n",
    "cursor = conn.cursor()\n",
    "\n",
    "create_table_query = '''\n",
    "CREATE TABLE IF NOT EXISTS GraduationRequirements (\n",
    "    year INT,\n",
    "    college TEXT,\n",
    "    department TEXT,\n",
    "    gyoPillCredit INT,\n",
    "    gyoGyunCredit INT,\n",
    "    oneMajorCredit INT,\n",
    "    multipleMajorCredit INT,\n",
    "    deepMajorCredit INT,\n",
    "    doubleMajorCredit INT,\n",
    "    minorCredit INT,\n",
    "    requirementTotalCredit INT\n",
    ");\n",
    "'''\n",
    "\n",
    "\n",
    "cursor.execute(create_table_query)\n",
    "conn.commit()\n",
    "conn.close()\n",
    "\n",
    "print(\"done\")"
   ]
  },
  {
   "cell_type": "code",
   "execution_count": 3,
   "metadata": {},
   "outputs": [
    {
     "name": "stdout",
     "output_type": "stream",
     "text": [
      "done\n"
     ]
    }
   ],
   "source": [
    "import pandas as pd\n",
    "import sqlite3\n",
    "\n",
    "\n",
    "csv_file_path = './24년졸업요건.csv'\n",
    "\n",
    "db_file_path = './kwu-lecture-recommendation-v1.db'\n",
    "\n",
    "\n",
    "data = pd.read_csv(csv_file_path)\n",
    "\n",
    "\n",
    "conn = sqlite3.connect(db_file_path)\n",
    "\n",
    "\n",
    "data.to_sql('GraduationRequirements', conn, if_exists='replace', index=False)\n",
    "\n",
    "\n",
    "conn.close()\n",
    "\n",
    "print(\"done\")"
   ]
  },
  {
   "cell_type": "code",
   "execution_count": 4,
   "metadata": {},
   "outputs": [
    {
     "name": "stdout",
     "output_type": "stream",
     "text": [
      "done\n"
     ]
    }
   ],
   "source": [
    "import sqlite3\n",
    "\n",
    "\n",
    "db_file_path = './kwu-lecture-recommendation-v1.db'\n",
    "\n",
    "\n",
    "gyoGyunTheme_value = \"과학과기술,인간과철학,사회와경제,글로벌문화와제2외국어,예술과체육,수리와자연\"\n",
    "\n",
    "\n",
    "conn = sqlite3.connect(db_file_path)\n",
    "\n",
    "\n",
    "cursor = conn.cursor()\n",
    "\n",
    "\n",
    "cursor.execute(\n",
    "    \"UPDATE GraduationRequirements SET gyoGyunTheme = ?\", (gyoGyunTheme_value,))\n",
    "\n",
    "\n",
    "conn.commit()\n",
    "\n",
    "\n",
    "conn.close()\n",
    "\n",
    "print(\"done\")"
   ]
  },
  {
   "cell_type": "code",
   "execution_count": 6,
   "metadata": {},
   "outputs": [
    {
     "name": "stdout",
     "output_type": "stream",
     "text": [
      "done\n"
     ]
    }
   ],
   "source": [
    "import sqlite3\n",
    "\n",
    "\n",
    "db_file_path = './kwu-lecture-recommendation-v1.db'\n",
    "\n",
    "\n",
    "gyoPillLecName_electronic = \"광운인되기,대학영어,융합적사고와글쓰기,C프로그래밍,C프로그래밍응용\"\n",
    "gyoPillLecName_others = \"광운인되기,대학영어,융합적사고와글쓰기,인공지능과컴퓨팅사고,프로그래밍기초\"\n",
    "\n",
    "\n",
    "conn = sqlite3.connect(db_file_path)\n",
    "\n",
    "\n",
    "cursor = conn.cursor()\n",
    "\n",
    "\n",
    "cursor.execute(\"UPDATE GraduationRequirements SET gyoPillLecName = ? WHERE college = '전자정보공과대학'\",\n",
    "               (gyoPillLecName_electronic,))\n",
    "\n",
    "\n",
    "college_conditions = (\"공과대학\", \"자연과학대학\", \"인문사회과학대학\", \"정책법학대학\", \"경영대학\")\n",
    "cursor.execute(\"UPDATE GraduationRequirements SET gyoPillLecName = ? WHERE college IN (?, ?, ?, ?, ?)\",\n",
    "               (gyoPillLecName_others, *college_conditions))\n",
    "\n",
    "\n",
    "conn.commit()\n",
    "\n",
    "\n",
    "conn.close()\n",
    "\n",
    "print(\"done\")"
   ]
  },
  {
   "cell_type": "code",
   "execution_count": 7,
   "metadata": {},
   "outputs": [
    {
     "name": "stdout",
     "output_type": "stream",
     "text": [
      "done\n"
     ]
    }
   ],
   "source": [
    "import sqlite3\n",
    "\n",
    "\n",
    "db_file_path = './kwu-lecture-recommendation-v1.db'\n",
    "\n",
    "\n",
    "com_so = \"광운인되기,대학영어,융합적사고와글쓰기,C프로그래밍,인공지능과컴퓨팅사고\"\n",
    "jung = \"광운인되기,대학영어,융합적사고와글쓰기,프로그래밍기초,인공지능과컴퓨팅사고\"\n",
    "ro = \"광운인되기,대학영어,융합적사고와글쓰기,C프로그래밍,C프로그래밍응용\"\n",
    "\n",
    "\n",
    "conn = sqlite3.connect(db_file_path)\n",
    "\n",
    "\n",
    "cursor = conn.cursor()\n",
    "\n",
    "\n",
    "cursor.execute(\"UPDATE GraduationRequirements SET gyoPillLecName = ? WHERE department = '정보융합학부'\",\n",
    "               (jung,))\n",
    "\n",
    "cursor.execute(\"UPDATE GraduationRequirements SET gyoPillLecName = ? WHERE department = '로봇학부'\",\n",
    "               (ro,))\n",
    "\n",
    "\n",
    "college_conditions = (\"컴퓨터정보공학부\", \"소프트웨어학부\")\n",
    "cursor.execute(\"UPDATE GraduationRequirements SET gyoPillLecName = ? WHERE department IN (?, ?)\",\n",
    "               (com_so, *college_conditions))\n",
    "\n",
    "\n",
    "conn.commit()\n",
    "\n",
    "\n",
    "conn.close()\n",
    "\n",
    "print(\"done\")"
   ]
  }
 ],
 "metadata": {
  "kernelspec": {
   "display_name": ".env",
   "language": "python",
   "name": "python3"
  },
  "language_info": {
   "codemirror_mode": {
    "name": "ipython",
    "version": 3
   },
   "file_extension": ".py",
   "mimetype": "text/x-python",
   "name": "python",
   "nbconvert_exporter": "python",
   "pygments_lexer": "ipython3",
   "version": "3.11.9"
  }
 },
 "nbformat": 4,
 "nbformat_minor": 2
}
