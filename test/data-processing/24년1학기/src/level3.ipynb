{
 "cells": [
  {
   "cell_type": "markdown",
   "metadata": {},
   "source": [
    "### 3 차 전처리_원택님\n",
    "* 1. 분반번호 쉼표 나열\n",
    "* 2. 학년과 분반 분리\n",
    "    a. 학년 칼럼 추가 \n",
    "* 3. 외국인재학생 -> T/F\n",
    "* 4. 내국인재학생 -> T/F"
   ]
  },
  {
   "cell_type": "code",
   "execution_count": null,
   "metadata": {},
   "outputs": [],
   "source": [
    "import pandas as pd\n",
    "import re\n",
    "# 다양한 인코딩을 시도해보기\n",
    "encodings = ['euc-kr']\n",
    "\n",
    "for enc in encodings:\n",
    "    try:\n",
    "        df = pd.read_csv('df_result.csv', encoding=enc)\n",
    "        print(f\"Successfully read with encoding: {enc}\")\n",
    "        print(df.head())\n",
    "        break\n",
    "    except UnicodeDecodeError:\n",
    "        print(f\"Failed to read with encoding: {enc}\")"
   ]
  },
  {
   "cell_type": "code",
   "execution_count": null,
   "metadata": {},
   "outputs": [],
   "source": [
    "# 새로운 열 추가를 위한 함수 정의\n",
    "def extract_grade_info(row):\n",
    "    grades = []\n",
    "    if '1학년' in row:\n",
    "        grades.append('1')\n",
    "    if '2학년' in row:\n",
    "        grades.append('2')\n",
    "    if '3학년' in row:\n",
    "        grades.append('3')\n",
    "    if '4학년' in row:\n",
    "        grades.append('4')\n",
    "    return ','.join(grades)\n",
    "\n",
    "# 새로운 열 '학년 정보' 추가\n",
    "df['학년'] = df['분반'].apply(extract_grade_info)\n",
    "df['학년'].value_counts()"
   ]
  },
  {
   "cell_type": "code",
   "execution_count": null,
   "metadata": {},
   "outputs": [],
   "source": [
    "# # 패턴을 인식하고 대체하는 함수 정의\n",
    "# def expand_ranges(text):\n",
    "#     def replace_range(match):\n",
    "#         start_char = match.group(1)\n",
    "#         start_num = int(match.group(2))\n",
    "#         end_num = int(match.group(3))\n",
    "#         expanded = ','.join(f\"{start_char}{i}\" for i in range(start_num, end_num + 1))\n",
    "#         return expanded\n",
    "    \n",
    "#     # 정규 표현식을 사용하여 패턴을 인식하고 대체\n",
    "#     pattern = re.compile(r'([A-Z])(\\d+)~\\1(\\d+)')\n",
    "#     result = pattern.sub(replace_range, text)\n",
    "    \n",
    "#     return result\n",
    "\n",
    "def expand_ranges(text):\n",
    "    # 정규 표현식을 사용하여 패턴을 인식하고 대체\n",
    "    pattern = re.compile(r'([A-Z])(\\d+)~\\1(\\d+)')\n",
    "\n",
    "    # 각 패턴에 대해 확장된 범위로 대체하고, 그 결과만 반환\n",
    "    def replace_range(match):\n",
    "        start_char = match.group(1)\n",
    "        start_num = int(match.group(2))\n",
    "        end_num = int(match.group(3))\n",
    "        return ','.join(f\"{start_char}{i}\" for i in range(start_num, end_num + 1))\n",
    "    \n",
    "    # 전체 문자열 대신, 일치하는 부분만 찾아서 리스트로 모아 반환\n",
    "    expanded_parts = pattern.findall(text)\n",
    "    expanded_results = [replace_range(match) for match in pattern.finditer(text)]\n",
    "    \n",
    "    return ','.join(expanded_results)  # 리스트를 문자열로 결합\n",
    "def replace_spaces_with_commas(text):\n",
    "    # 모든 공백을 콤마로 대체\n",
    "    return text.replace(\" \", \",\")\n",
    "\n",
    "# '분반' 열에 함수 적용\n",
    "df['분반_학과'] = df['분반'].apply(expand_ranges)\n",
    "\n",
    "# 결과 출력\n",
    "print(df)"
   ]
  },
  {
   "cell_type": "code",
   "execution_count": null,
   "metadata": {},
   "outputs": [],
   "source": [
    "# 조건에 따라 열 값 수정\n",
    "conditions_foreign = ['외국인만 수강가능', '공대 합반,외국인만수강가능', '전정대와 합반 외국인만 수강가능']\n",
    "condition_domestic = '외국인학생 수강불가'\n",
    "\n",
    "\n",
    "# 외국인재학생 = True, 국내재학생 = False 설정\n",
    "for condition in conditions_foreign:\n",
    "    df.loc[df['분반'] == condition, ['외국인재학생', '국내재학생']] = [True, False]\n",
    "\n",
    "\n",
    "# 외국인재학생 = False, 국내재학생 = True 설정\n",
    "df.loc[df['분반'] == condition_domestic, ['외국인재학생', '국내재학생']] = [False, True]"
   ]
  },
  {
   "cell_type": "code",
   "execution_count": null,
   "metadata": {},
   "outputs": [],
   "source": [
    "# # '외국인전용' 열 추가\n",
    "# df['외국인전용'] = df['분반'].apply(lambda x: True if any(term in x for term in ['외국인만 수강가능', '공대 합반,외국인만수강가능', '전정대와 합반 외국인만 수강가능']) else False)\n",
    "\n",
    "# # '국내재학생' 열 추가\n",
    "# df['국내재학생'] = ~df['외국인전용']"
   ]
  },
  {
   "cell_type": "code",
   "execution_count": null,
   "metadata": {},
   "outputs": [],
   "source": [
    "# '참빛인재대학'이 포함되어 있는지 확인하고, 조건에 따라 새 열에 'TRUE' 할당\n",
    "df['참빛인재대학'] = df['분반'].apply(lambda x: 'TRUE' if '참빛인재대학' in x else pd.NA)\n",
    "\n",
    "\n",
    "# '참빛인재대학'이 포함되어 있는지 확인하고, 조건에 따라 새 열에 'TRUE' 할당\n",
    "df['체육특기자'] = df['분반'].apply(lambda x: 'TRUE' if '체육특기자' in x else pd.NA)"
   ]
  },
  {
   "cell_type": "code",
   "execution_count": null,
   "metadata": {},
   "outputs": [],
   "source": [
    "# 삭제할 문자열 리스트\n",
    "remove_items = ['체육실기', '음악실기', '미술실기']\n",
    "\n",
    "# 특정 문자열 삭제\n",
    "for item in remove_items:\n",
    "    df['분반'] = df['분반'].str.replace(item, '')"
   ]
  },
  {
   "cell_type": "code",
   "execution_count": null,
   "metadata": {},
   "outputs": [],
   "source": [
    "# 결과를 CSV 파일로 저장\n",
    "df.to_csv('df_result_expanded1.csv', index=False, encoding='cp949')"
   ]
  },
  {
   "cell_type": "code",
   "execution_count": null,
   "metadata": {},
   "outputs": [],
   "source": [
    "# '외국인'이 포함된 행 필터링\n",
    "foreign_students = df[df['분반'].str.contains('체육특기')]\n",
    "\n",
    "# '외국인'이 포함된 유니크한 값 추출\n",
    "unique_foreign_classes = foreign_students['분반'].unique()\n",
    "\n",
    "# 결과 출력\n",
    "print(\"분반에 포함된 유니크한 값:\")\n",
    "print(unique_foreign_classes)"
   ]
  },
  {
   "cell_type": "code",
   "execution_count": null,
   "metadata": {},
   "outputs": [],
   "source": [
    "재수강용 \n",
    "\n",
    "외국인 분반에 포함된 유니크한 값:\n",
    "['참빛인재대학 전용' '참빛인재대학']\n",
    "\n",
    "['체육실기' '음악실기' '미술실기']\n",
    "\n",
    "['체육특기자만 수강가능']"
   ]
  }
 ],
 "metadata": {
  "language_info": {
   "name": "python"
  }
 },
 "nbformat": 4,
 "nbformat_minor": 2
}
