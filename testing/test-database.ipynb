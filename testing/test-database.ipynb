{
 "cells": [
  {
   "cell_type": "code",
   "execution_count": 19,
   "metadata": {},
   "outputs": [],
   "source": [
    "import re\n",
    "import time\n",
    "import random\n",
    "import sqlite3\n",
    "import os\n",
    "import pandas as pd"
   ]
  },
  {
   "cell_type": "code",
   "execution_count": 29,
   "metadata": {},
   "outputs": [],
   "source": [
    "conn = sqlite3.connect('test-database.db')\n",
    "cursor = conn.cursor()\n",
    "\n",
    "cursor.execute('''\n",
    "CREATE TABLE IF NOT EXISTS bunBan (\n",
    "    lecNumber TEXT,\n",
    "    A1 TEXT,\n",
    "    A2 TEXT,\n",
    "    A3 TEXT,\n",
    "    B1 TEXT,\n",
    "    FOREIGN KEY (lecNumber) REFERENCES LectureTable (lecNumber)\n",
    ")\n",
    "''')\n",
    "\n",
    "lecNum = \"7000-1-3362-01\"\n",
    "bunBan = \"A1\"\n",
    "\n",
    "sql_query = f'''\n",
    "    UPDATE bunBan \n",
    "    SET A1 = ? \n",
    "    WHERE lecNumber = ?\n",
    "'''\n",
    "cursor.execute(sql_query, (\"전공\", lecNum))\n",
    "conn.commit()\n",
    "\n",
    "conn.close()\n"
   ]
  },
  {
   "cell_type": "markdown",
   "metadata": {},
   "source": [
    "|                | A1  | A2  | A3  | B1  |\n",
    "| -------------- | --- | --- | --- | --- |\n",
    "| 0000-1-8128-01 |     |     |     |     |\n",
    "| 0000-1-8128-02 |     |     |     |     |\n",
    "| 7000-1-3362-01 |     |     |     |     |\n",
    "| 7000-1-3362-02 |     |     |     |     |\n",
    "| 4520-1-8512-02 |     |     |     |     |\n",
    "| 4520-1-8512-02 |     |     |     |     |\n"
   ]
  }
 ],
 "metadata": {
  "kernelspec": {
   "display_name": "env",
   "language": "python",
   "name": "python3"
  },
  "language_info": {
   "codemirror_mode": {
    "name": "ipython",
    "version": 3
   },
   "file_extension": ".py",
   "mimetype": "text/x-python",
   "name": "python",
   "nbconvert_exporter": "python",
   "pygments_lexer": "ipython3",
   "version": "3.11.9"
  }
 },
 "nbformat": 4,
 "nbformat_minor": 2
}
