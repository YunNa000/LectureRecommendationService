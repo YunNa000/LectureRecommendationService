{
 "cells": [
  {
   "cell_type": "code",
   "execution_count": 76,
   "metadata": {},
   "outputs": [],
   "source": [
    "import pandas as pd\n",
    "\n",
    "df = pd.read_csv(r\"C:\\Users\\user\\Desktop\\level_4_손원택수정1_중복제거.csv.csv\", encoding=\"cp949\")"
   ]
  },
  {
   "cell_type": "markdown",
   "metadata": {},
   "source": [
    "### 1. 시간표 좌표형식 처리, Null 값 0으로 처리"
   ]
  },
  {
   "cell_type": "code",
   "execution_count": 77,
   "metadata": {},
   "outputs": [],
   "source": [
    "day_mapping = {\n",
    "    '월': '1',\n",
    "    '화': '2',\n",
    "    '수': '3',\n",
    "    '목': '4',\n",
    "    '금': '5',\n",
    "    '토': '6'\n",
    "}"
   ]
  },
  {
   "cell_type": "code",
   "execution_count": 78,
   "metadata": {},
   "outputs": [],
   "source": [
    "import pandas as pd\n",
    "import re\n",
    "\n",
    "def transform_class_time(row):\n",
    "    time_str = row['강의시간 (요일,교시)']\n",
    "    lecture_type = row['강의유형']\n",
    "    course_name = row['과목명']\n",
    "\n",
    "    if pd.isna(time_str) or time_str == 'Null':\n",
    "        # 규칙 1 적용\n",
    "        if '원격수업100' in lecture_type:\n",
    "            return 0\n",
    "        # 규칙 2 적용\n",
    "        elif 'KW-VIP 2024-1' in course_name or '학과별 운영방식에 따라 별도로 운영' in lecture_type:\n",
    "            return '학과별 운영방식에 따라 별도로 운영함'\n",
    "        return time_str\n",
    "\n",
    "    # 정규 표현식을 사용하여 요일과 교시 추출\n",
    "    pattern = re.compile(r'([월화수목금토])(\\d+(?:,\\d+)*)')\n",
    "    matches = pattern.findall(time_str)\n",
    "    \n",
    "    transformed = []\n",
    "    \n",
    "    for match in matches:\n",
    "        day = match[0]\n",
    "        periods = match[1]\n",
    "        if day in day_mapping:\n",
    "            transformed.append(f\"({day_mapping[day]}:{periods})\")\n",
    "        else:\n",
    "            print(f\"Day not in mapping: {day}\")\n",
    "    \n",
    "    return ','.join(transformed)\n",
    "\n",
    "df['강의시간 (요일,교시)'] = df.apply(transform_class_time, axis=1)\n",
    "\n",
    "df.to_csv(r'C:\\Users\\user\\Desktop\\kwu-lecture-timetable_v1.csv', index=False, encoding='euc-kr')"
   ]
  },
  {
   "cell_type": "code",
   "execution_count": null,
   "metadata": {},
   "outputs": [],
   "source": []
  }
 ],
 "metadata": {
  "kernelspec": {
   "display_name": "base",
   "language": "python",
   "name": "python3"
  },
  "language_info": {
   "codemirror_mode": {
    "name": "ipython",
    "version": 3
   },
   "file_extension": ".py",
   "mimetype": "text/x-python",
   "name": "python",
   "nbconvert_exporter": "python",
   "pygments_lexer": "ipython3",
   "version": "3.11.5"
  }
 },
 "nbformat": 4,
 "nbformat_minor": 2
}
