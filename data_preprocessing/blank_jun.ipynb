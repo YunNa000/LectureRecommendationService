{
 "cells": [
  {
   "cell_type": "code",
   "execution_count": 10,
   "metadata": {},
   "outputs": [
    {
     "name": "stdout",
     "output_type": "stream",
     "text": [
      "                학정번호                 분반  이수 전공 인정 학과 \n",
      "570   7000-3-3766-01     공대 합반,외국인만수강가능  전선       NaN\n",
      "848   1000-3-3766-01  전정대와 합반 외국인만 수강가능  전선       NaN\n",
      "1109  3230-1-3965-01          외국인만 수강가능  전선       NaN\n",
      "1115  3230-1-9603-03          외국인만 수강가능  전필       NaN\n",
      "1118  3230-2-3746-01          외국인만 수강가능  전선       NaN\n",
      "1123  3230-2-4962-01          외국인만 수강가능  전선       NaN\n",
      "1128  3230-2-8541-02          외국인만 수강가능  전선       NaN\n",
      "1136  3230-3-4470-01          외국인만 수강가능  전선       NaN\n",
      "1170  F000-2-3771-01          외국인만 수강가능  전선       NaN\n",
      "1264  5080-1-9751-01          외국인만 수강가능  전선       NaN\n",
      "1265  5080-1-9752-01          외국인만 수강가능  전선       NaN\n",
      "1276  5080-2-1277-04          외국인만 수강가능  전필       NaN\n",
      "1280  5080-2-4900-04          외국인만 수강가능  전필       NaN\n",
      "1285  5080-2-8554-04          외국인만 수강가능  전필       NaN\n",
      "1287  5080-2-8555-02          외국인만 수강가능  전필       NaN\n",
      "1292  5080-3-0225-02          외국인만 수강가능  전선       NaN\n",
      "1294  5080-3-1149-02          외국인만 수강가능  전선       NaN\n",
      "1297  5080-3-3762-01          외국인만 수강가능  전선       NaN\n",
      "1325  5100-1-4449-02          외국인만 수강가능  전필       NaN\n",
      "1330  5100-1-9926-01          외국인만 수강가능  전선       NaN\n",
      "1332  5100-2-0048-02          외국인만 수강가능  전필       NaN\n",
      "1342  5100-2-5576-03          외국인만 수강가능  전필       NaN\n",
      "1347  5100-3-0309-02          외국인만 수강가능  전선       NaN\n",
      "1371  0000-2-7364-01               Null  전선       NaN\n",
      "1372  0000-4-9755-01               Null  전선       NaN\n",
      "1373  0000-2-6236-01               Null  전선       NaN\n",
      "1374  0000-3-6363-01               Null  전선       NaN\n",
      "1375  0000-2-3430-01               Null  전선       NaN\n",
      "1376  0000-2-6240-01               Null  전선       NaN\n",
      "1377  0000-3-2313-01               Null  전선       NaN\n",
      "1378  0000-3-5135-01               Null  전선       NaN\n",
      "1379  0000-4-6577-01               Null  전선       NaN\n",
      "1380  0000-2-8652-01               Null  전선       NaN\n",
      "1381  0000-4-3104-01               Null  전선       NaN\n",
      "1382  0000-4-9199-01               Null  전선       NaN\n",
      "1383  0000-3-9768-01               Null  전선       NaN\n",
      "1384  0000-2-3796-01               Null  전선       NaN\n",
      "1385  0000-4-4750-01               Null  전선       NaN\n"
     ]
    }
   ],
   "source": [
    "import pandas as pd\n",
    "\n",
    "# 엑셀 파일 읽기\n",
    "df = pd.read_csv(r\"C:\\Users\\user\\Desktop\\level_4_손원택수정1_중복제거.csv.csv\", encoding ='cp949')\n",
    "\n",
    "# A 칼럼이 '전선' 또는 '전필'이고 B 칼럼이 비어 있는 행 찾기\n",
    "filtered_df = df[(df['이수'].isin(['전선', '전필'])) & (df['전공 인정 학과 '].isna())]\n",
    "\n",
    "# 필요한 열만 선택\n",
    "filtered_df = filtered_df[['학정번호', '분반', '이수', '전공 인정 학과 ']]\n",
    "\n",
    "# 결과 출력\n",
    "print(filtered_df)"
   ]
  }
 ],
 "metadata": {
  "kernelspec": {
   "display_name": "base",
   "language": "python",
   "name": "python3"
  },
  "language_info": {
   "codemirror_mode": {
    "name": "ipython",
    "version": 3
   },
   "file_extension": ".py",
   "mimetype": "text/x-python",
   "name": "python",
   "nbconvert_exporter": "python",
   "pygments_lexer": "ipython3",
   "version": "3.11.5"
  }
 },
 "nbformat": 4,
 "nbformat_minor": 2
}
