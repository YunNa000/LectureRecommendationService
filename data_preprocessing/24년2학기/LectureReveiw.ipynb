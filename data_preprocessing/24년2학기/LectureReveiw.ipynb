{
 "cells": [
  {
   "cell_type": "code",
   "execution_count": 2,
   "metadata": {},
   "outputs": [
    {
     "name": "stdout",
     "output_type": "stream",
     "text": [
      "done\n"
     ]
    }
   ],
   "source": [
    "import sqlite3\n",
    "\n",
    "\n",
    "old_db_connection = sqlite3.connect('./backup/old.db')\n",
    "new_db_connection = sqlite3.connect('kwu-lecture-db-v2.db')\n",
    "\n",
    "old_cursor = old_db_connection.cursor()\n",
    "new_cursor = new_db_connection.cursor()\n",
    "\n",
    "\n",
    "old_cursor.execute(\n",
    "    \"SELECT lecNumber, lecReviewrs, lecStars, lecReview FROM LecReviewTable\")\n",
    "reviews = old_cursor.fetchall()\n",
    "\n",
    "\n",
    "for review in reviews:\n",
    "    lec_number, reviewer, review_star, review_text = review\n",
    "\n",
    "    new_cursor.execute(\n",
    "        \"SELECT lectureID, lecName, lecProfessor FROM LectureList WHERE lecNumber = ?\", (lec_number,))\n",
    "    lecture = new_cursor.fetchone()\n",
    "\n",
    "    if lecture:\n",
    "        lecture_id, lec_name, lec_professor = lecture\n",
    "\n",
    "        new_cursor.execute('''\n",
    "            INSERT INTO LectureReview (lecNumber, lecName, lecProfessor, reviewer, reviewStar, review)\n",
    "            VALUES (?, ?, ?, ?, ?, ?)\n",
    "        ''', (lec_number, lec_name, lec_professor, reviewer, review_star, review_text))\n",
    "\n",
    "\n",
    "new_db_connection.commit()\n",
    "old_db_connection.close()\n",
    "new_db_connection.close()\n",
    "\n",
    "print(\"done\")"
   ]
  }
 ],
 "metadata": {
  "kernelspec": {
   "display_name": ".env",
   "language": "python",
   "name": "python3"
  },
  "language_info": {
   "codemirror_mode": {
    "name": "ipython",
    "version": 3
   },
   "file_extension": ".py",
   "mimetype": "text/x-python",
   "name": "python",
   "nbconvert_exporter": "python",
   "pygments_lexer": "ipython3",
   "version": "3.11.9"
  }
 },
 "nbformat": 4,
 "nbformat_minor": 2
}
