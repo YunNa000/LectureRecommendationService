{
 "cells": [
  {
   "cell_type": "markdown",
   "metadata": {},
   "source": [
    "### 4차 전처리\n",
    "* 1. 재수강용 -> 재수강 칼럼 따로 빼기 (분반 정보에서 재수강 단어 들어간 애들 추출)\n",
    "* 2. 참빛인재대학전용 -> 칼럼 따로 빼기 (분반 정보에서 추출)\n",
    "* 3. '실기' 삭제 (검색 후 보이면 삭제)\n",
    "* 4. (전공) 타학과생 수강불가 -> pdf 보고 교수님 소속으로 분류 (E1, E2 ..)\n",
    "* 5. 체육특기생 -> 체육특기생 열 만들기 "
   ]
  },
  {
   "cell_type": "code",
   "execution_count": null,
   "metadata": {},
   "outputs": [],
   "source": []
  },
  {
   "cell_type": "markdown",
   "metadata": {},
   "source": [
    "### 4차 전처리 <노가다>\n",
    "* 1. {전공} + 학년 →  ~~단과대는 학정번호 기준으로 뽑기~~ / → 인융대도 7000으로 표기됨 \n",
    "    a. 두개이상의 단과대가 들을수있는 강의 예외사항\n",
    "* 2. 매치업, 로봇 2학년 택일등 처리하기 애매한 요소들 →몰기"
   ]
  },
  {
   "cell_type": "code",
   "execution_count": null,
   "metadata": {},
   "outputs": [],
   "source": []
  }
 ],
 "metadata": {
  "kernelspec": {
   "display_name": "base",
   "language": "python",
   "name": "python3"
  },
  "language_info": {
   "codemirror_mode": {
    "name": "ipython",
    "version": 3
   },
   "file_extension": ".py",
   "mimetype": "text/x-python",
   "name": "python",
   "nbconvert_exporter": "python",
   "pygments_lexer": "ipython3",
   "version": "3.11.5"
  }
 },
 "nbformat": 4,
 "nbformat_minor": 2
}
