{
 "cells": [
  {
   "cell_type": "code",
   "execution_count": 5,
   "metadata": {},
   "outputs": [],
   "source": [
    "import pandas as pd\n",
    "\n",
    "\n",
    "df = pd.read_csv('./level_4_손원택수정.csv', encoding=\"cp949\")\n",
    "\n",
    "\n",
    "dups = df['학정번호'].duplicated(keep=False)\n",
    "\n",
    "dup = df[dups]\n",
    "\n",
    "grouped = dup.groupby('학정번호')\n",
    "\n",
    "for 학정번호, group in grouped:\n",
    "    df.drop(group.index[-1], inplace=True)\n",
    "\n",
    "df.to_csv('final.csv', index=False, encoding=\"cp949\")\n"
   ]
  },
  {
   "cell_type": "code",
   "execution_count": 6,
   "metadata": {},
   "outputs": [
    {
     "name": "stdout",
     "output_type": "stream",
     "text": [
      "419행: 420, 0000-1-4628-04, 기초수학및연습, 인융대, 공대 1학년, nan, 1, Null, 교선, 3, 3, 강우석, 금1,2, Null, nan, nan, nan, C1,C2,C3,C4,C5,C6,C7,C8,C9,J5,J6,J7,J8,A1,A2,K1,K2,K3, nan, nan, nan\n",
      "729행: 827, 0000-1-4628-04, 기초수학및연습, 인융대,공대 1학년, nan, 1, Null, 교선, 3, 3, 강우석, 금1,2, Null, nan, nan, nan, C1,C2,C3,C4,C5,C6,C7,C8,C9,J5,J6,J7,J8,A1,A2,K1,K2,K3, nan, nan, nan\n",
      "\n"
     ]
    }
   ],
   "source": [
    "import pandas as pd\n",
    "\n",
    "\n",
    "# df = pd.read_csv('./level_4_손원택수정.csv', encoding=\"cp949\")\n",
    "df = pd.read_csv('./final.csv', encoding=\"cp949\")\n",
    "\n",
    "dups = df['학정번호'].duplicated(keep=False)\n",
    "\n",
    "dup = df[dups]\n",
    "\n",
    "grouped = dup.groupby('학정번호')\n",
    "\n",
    "for 학정번호, group in grouped:\n",
    "    for idx, row in group.iterrows():\n",
    "        print(f\"{idx}행: {', '.join(map(str, row.values))}\")\n",
    "    print() "
   ]
  }
 ],
 "metadata": {
  "kernelspec": {
   "display_name": "env",
   "language": "python",
   "name": "python3"
  },
  "language_info": {
   "codemirror_mode": {
    "name": "ipython",
    "version": 3
   },
   "file_extension": ".py",
   "mimetype": "text/x-python",
   "name": "python",
   "nbconvert_exporter": "python",
   "pygments_lexer": "ipython3",
   "version": "3.11.9"
  }
 },
 "nbformat": 4,
 "nbformat_minor": 2
}
