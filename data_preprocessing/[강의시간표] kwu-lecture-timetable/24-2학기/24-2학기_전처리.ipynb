{
 "cells": [
  {
   "cell_type": "markdown",
   "metadata": {},
   "source": [
    "### 2학기 CSV"
   ]
  },
  {
   "cell_type": "markdown",
   "metadata": {},
   "source": [
    "1. pdf 전체 -> csv"
   ]
  },
  {
   "cell_type": "code",
   "execution_count": 1,
   "metadata": {},
   "outputs": [
    {
     "name": "stdout",
     "output_type": "stream",
     "text": [
      "CSV 파일이 저장되었습니다.\n"
     ]
    }
   ],
   "source": [
    "import pdfplumber\n",
    "import pandas as pd\n",
    "\n",
    "# PDF 파일 경로\n",
    "pdf_file_path = r\"./libs/pdf/3-1. 강의시간표 전체(2024-2).pdf\"\n",
    "\n",
    "# 저장할 CSV 파일 경로 .\\libs\\csv\n",
    "csv_file_path = \".\\libs\\csv/kwu-24-2-timetable.csv\"\n",
    "\n",
    "# 데이터를 저장할 리스트 초기화\n",
    "data = []\n",
    "\n",
    "# PDF 파일 열기\n",
    "with pdfplumber.open(pdf_file_path) as pdf:\n",
    "    # 각 페이지 순회\n",
    "    for page in pdf.pages:\n",
    "        # 페이지에서 표 추출\n",
    "        table = page.extract_table()\n",
    "        if table:\n",
    "            # 추출된 표 데이터를 리스트에 추가\n",
    "            data.extend(table)\n",
    "\n",
    "# 데이터가 없는 빈 행을 필터링\n",
    "filtered_data = [row for row in data if any(cell.strip() for cell in row)]\n",
    "\n",
    "# 추출된 데이터를 DataFrame으로 변환\n",
    "df = pd.DataFrame(filtered_data[1:], columns=filtered_data[0])  # 첫 번째 행을 헤더로 사용\n",
    "\n",
    "# DataFrame을 CSV 파일로 저장\n",
    "df.to_csv(csv_file_path, index=False)\n",
    "\n",
    "print(\"CSV 파일이 저장되었습니다.\")\n"
   ]
  },
  {
   "cell_type": "markdown",
   "metadata": {},
   "source": [
    "2. 페이지 중간중간 섞여있는 비고(* ~), 칼럼(학정번호~) 삭제"
   ]
  },
  {
   "cell_type": "code",
   "execution_count": null,
   "metadata": {},
   "outputs": [],
   "source": []
  }
 ],
 "metadata": {
  "kernelspec": {
   "display_name": "env",
   "language": "python",
   "name": "python3"
  },
  "language_info": {
   "codemirror_mode": {
    "name": "ipython",
    "version": 3
   },
   "file_extension": ".py",
   "mimetype": "text/x-python",
   "name": "python",
   "nbconvert_exporter": "python",
   "pygments_lexer": "ipython3",
   "version": "3.11.9"
  }
 },
 "nbformat": 4,
 "nbformat_minor": 2
}
