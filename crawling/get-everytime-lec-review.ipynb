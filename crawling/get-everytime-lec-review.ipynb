{
 "cells": [
  {
   "cell_type": "code",
   "execution_count": 15,
   "metadata": {},
   "outputs": [],
   "source": [
    "from selenium import webdriver\n",
    "from selenium.webdriver.common.by import By\n",
    "import time\n",
    "from selenium.webdriver.firefox.service import Service\n",
    "import PRIVATE\n",
    "import random\n",
    "\n",
    "def sleep_time(min_sec, max_sec):\n",
    "  time.sleep(random.uniform(min_sec,max_sec))\n",
    "  driver.implicitly_wait(random.uniform(min_sec,max_sec))\n",
    "  \n",
    "# driver setting\n",
    "driver_path = \"./gecko/geckodriver\"\n",
    "options = webdriver.FirefoxOptions()\n",
    "# options.add_argument('--headless')\n",
    "options.add_argument(\"--disable-dev-shm-usage\")\n",
    "options.add_argument(\"user-agent={Mozilla/5.0 (X11; Linux x86_64) AppleWebKit/537.36 (KHTML, like Gecko) Chrome/85.0.4183.121 Safari/537.36}\")\n",
    "\n",
    "service = Service(executable_path=driver_path)\n",
    "driver = webdriver.Firefox(service=service, options=options)\n",
    "\n",
    "# id & pw\n",
    "everytime_id = PRIVATE.EVERYTIME_ID\n",
    "everytime_pw = PRIVATE.EVERYTIME_PW\n",
    "\n",
    "##############\n",
    "\n",
    "driver.get(\"https://account.everytime.kr/login\")\n",
    "sleep_time(1,2)\n",
    "\n",
    "driver.find_element(By.NAME, 'id').send_keys(everytime_id)\n",
    "driver.find_element(By.NAME, 'password').send_keys(everytime_pw)\n",
    "sleep_time(1,2)\n",
    "\n",
    "# driver.find_element(By.XPATH,'//*[@class=\"submit\"]/input').click()\n",
    "# driver.find_element_by_xpath('//*[@id=\"container\"]/form/p[3]/input').click()\n",
    "driver.find_element(By.CSS_SELECTOR, '.container > form:nth-child(2) > input:nth-child(2)').click()\n",
    "sleep_time(1,2)\n",
    "\n"
   ]
  }
 ],
 "metadata": {
  "kernelspec": {
   "display_name": "env",
   "language": "python",
   "name": "python3"
  },
  "language_info": {
   "codemirror_mode": {
    "name": "ipython",
    "version": 3
   },
   "file_extension": ".py",
   "mimetype": "text/x-python",
   "name": "python",
   "nbconvert_exporter": "python",
   "pygments_lexer": "ipython3",
   "version": "3.11.9"
  }
 },
 "nbformat": 4,
 "nbformat_minor": 2
}
